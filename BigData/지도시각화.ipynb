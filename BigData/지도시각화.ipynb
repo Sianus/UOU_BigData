{
 "cells": [
  {
   "cell_type": "code",
   "execution_count": null,
   "id": "82beec44-7d6c-4755-a207-ab32e9eee576",
   "metadata": {
    "tags": []
   },
   "outputs": [],
   "source": [
    "!pip install folium"
   ]
  },
  {
   "cell_type": "code",
   "execution_count": null,
   "id": "c987ec50-bb9c-4851-ba65-4de7ac532b20",
   "metadata": {
    "tags": []
   },
   "outputs": [],
   "source": [
    "import pandas as pd\n",
    "import matplotlib.pyplot as plt\n",
    "import folium\n",
    "import matplotlib.font_manager as fm\n",
    "font_name = fm.FontProperties(fname=\"c:/Windows/Fonts/malgun.ttf\").get_name()\n",
    "plt.rc('font', family=font_name)"
   ]
  },
  {
   "cell_type": "markdown",
   "id": "ad6e98c6-427c-4d9a-a1dd-f3fcfacfe3ee",
   "metadata": {},
   "source": [
    "### 지도시각화에 필요한 파일\n",
    "- 지도 데이터 파일(.json)\n",
    "- 시각화 하고자 하는 데이터 파일(.csv 등)\n",
    "- Choropleth 같은 레이어를 만들때, 두 데이터를 파라미터로 넘겨줌\n",
    "- 시각화할 데이터를 지도에 그리려면 두 데이터를 매핑\n",
    "- columns : tuple 형태의 2개의 값만 들어감\n",
    "  - 하나는 geo_data 의 데이터 변수(열) 중, data 의 데이터와 매핑할 변수임. 즉, 아래 key_on 값과 매핑할 변수임\n",
    "  - geo_data 는 url 이 올 수도 있다\n",
    "  - 2개 값의 순서는 상관없음\n",
    "- key_on : 하나의 String 값이 들어감. \n",
    "- fill_color : 'BuGn', 'BuPu', 'GnBu','OrRd','PuBu','PuBuGn','PuRd','RdPu','YlGn','YlGnBu','YlOrBr','YlOrRd',......\n",
    "- legend_name : 범례 이름"
   ]
  },
  {
   "cell_type": "code",
   "execution_count": null,
   "id": "cc745c0d-6807-4e46-bc86-1c2dbfadebec",
   "metadata": {
    "tags": []
   },
   "outputs": [],
   "source": [
    "import pandas as pd\n",
    "\n",
    "url = (\n",
    "    \"https://raw.githubusercontent.com/python-visualization/folium/master/examples/data\"\n",
    ")\n",
    "state_geo = f\"{url}/us-states.json\"\n",
    "state_unemployment = f\"{url}/US_Unemployment_Oct2012.csv\"\n",
    "state_data = pd.read_csv(state_unemployment)\n",
    "\n",
    "m = folium.Map(location=[48, -102], zoom_start=3, width='60%', height='60%')\n",
    "\n",
    "folium.Choropleth(\n",
    "    geo_data=state_geo,\n",
    "    name=\"choropleth\",\n",
    "    data=state_data,\n",
    "    columns=[\"State\", \"Unemployment\"],\n",
    "    key_on=\"feature.id\",\n",
    "    fill_color=\"YlGn\",\n",
    "    fill_opacity=0.7,\n",
    "    line_opacity=0.2,\n",
    "    legend_name=\"Unemployment Rate (%)\",\n",
    ").add_to(m)\n",
    "\n",
    "folium.LayerControl().add_to(m)\n",
    "m"
   ]
  },
  {
   "cell_type": "code",
   "execution_count": null,
   "id": "dbcca036-9821-41b4-ad49-6b12828f4115",
   "metadata": {
    "tags": []
   },
   "outputs": [],
   "source": [
    "r = requests.get(state_geo)\n",
    "c = r.content\n",
    "us_geo = json.loads(c)\n",
    "us_geo"
   ]
  },
  {
   "cell_type": "code",
   "execution_count": null,
   "id": "5ae7c604-47b0-4690-8f81-7f785784a570",
   "metadata": {
    "tags": []
   },
   "outputs": [],
   "source": [
    "us_geo['features'][0]['id']"
   ]
  },
  {
   "cell_type": "code",
   "execution_count": null,
   "id": "9a1d53b0-783a-4cc7-987a-01410f786456",
   "metadata": {
    "tags": []
   },
   "outputs": [],
   "source": [
    "state_data"
   ]
  },
  {
   "cell_type": "markdown",
   "id": "6caa64da-7f10-4f1b-acda-21aba82995db",
   "metadata": {},
   "source": [
    "#### import requests : url로 geo_data 요청하기 위해 import\n",
    "#### import json : 요청된 지도 데이터 load 하기 위해 import"
   ]
  },
  {
   "cell_type": "code",
   "execution_count": null,
   "id": "dfc860a2-50a2-4e93-807a-a5fda62b9f22",
   "metadata": {
    "tags": []
   },
   "outputs": [],
   "source": [
    "import requests\n",
    "import json"
   ]
  },
  {
   "cell_type": "code",
   "execution_count": null,
   "id": "3a4e6fae-8524-4b76-8b9d-205ec561689a",
   "metadata": {
    "tags": []
   },
   "outputs": [],
   "source": [
    "# 서울 행정구역 json raw파일(githubcontent)\n",
    "r = requests.get('https://raw.githubusercontent.com/southkorea/seoul-maps/master/kostat/2013/json/seoul_municipalities_geo_simple.json')\n",
    "c = r.content\n",
    "seoul_geo = json.loads(c)"
   ]
  },
  {
   "cell_type": "code",
   "execution_count": null,
   "id": "c53e1ad1-0d2f-46b1-a772-cb13f7c50bfa",
   "metadata": {
    "tags": []
   },
   "outputs": [],
   "source": [
    "len(seoul_geo['features'])"
   ]
  },
  {
   "cell_type": "code",
   "execution_count": null,
   "id": "24d53d55-f79a-4390-afe7-4e82678e6231",
   "metadata": {
    "tags": []
   },
   "outputs": [],
   "source": [
    "seoul_geo['features'][0]['properties']['name']"
   ]
  },
  {
   "cell_type": "code",
   "execution_count": null,
   "id": "4f63d1ea-d267-40ab-85c0-c722597b6887",
   "metadata": {
    "tags": []
   },
   "outputs": [],
   "source": [
    "def getRegion(geodata, region):\n",
    "    for i in range(len(geodata['features'])):\n",
    "        if geodata['features'][i]['properties']['name'] == region:\n",
    "            return geodata['features'][i]"
   ]
  },
  {
   "cell_type": "code",
   "execution_count": null,
   "id": "73bf0ce0-aa26-4bb7-b5e7-305feb167175",
   "metadata": {
    "tags": []
   },
   "outputs": [],
   "source": [
    "gangnam = getRegion(seoul_geo, '강남구')\n",
    "gangnam"
   ]
  },
  {
   "cell_type": "code",
   "execution_count": null,
   "id": "dc6ea2fd-c3b8-4f53-a18c-41c86b1759f5",
   "metadata": {},
   "outputs": [],
   "source": [
    "# seoul_geo"
   ]
  },
  {
   "cell_type": "code",
   "execution_count": null,
   "id": "1ef2c50d-247e-4374-8a7a-b3a5603dd51a",
   "metadata": {
    "tags": []
   },
   "outputs": [],
   "source": [
    "m = folium.Map(\n",
    "    location=[37.559819, 126.963895],\n",
    "    zoom_start=12, \n",
    "    tiles='cartodbpositron'\n",
    ")\n",
    "m"
   ]
  },
  {
   "cell_type": "code",
   "execution_count": null,
   "id": "b69a9856-6536-4ca9-8647-4302813be76f",
   "metadata": {
    "tags": []
   },
   "outputs": [],
   "source": [
    "folium.GeoJson(\n",
    "    seoul_geo,\n",
    "    name='서울시'\n",
    ").add_to(m)\n",
    "m"
   ]
  },
  {
   "cell_type": "code",
   "execution_count": null,
   "id": "fb679c5e-4375-4fa7-96f9-eeb971e5635d",
   "metadata": {},
   "outputs": [],
   "source": [
    "#from folium.plugins import MarkerCluster"
   ]
  },
  {
   "cell_type": "code",
   "execution_count": null,
   "id": "23529dfb-7796-4cf8-9a26-be3a599e5159",
   "metadata": {
    "tags": []
   },
   "outputs": [],
   "source": [
    "m = folium.Map(\n",
    "    location=[37.559819, 126.963895],\n",
    "    zoom_start=12, \n",
    "    tiles='cartodbpositron'    \n",
    ")\n",
    "folium.GeoJson(\n",
    "    gangnam, #'강남구'의 구역 표시\n",
    ").add_to(m)\n",
    "\n",
    "m"
   ]
  },
  {
   "cell_type": "markdown",
   "id": "aa43bef0-c9bf-4947-9451-62c16d9af6bb",
   "metadata": {},
   "source": [
    "### 울산 지도 "
   ]
  },
  {
   "cell_type": "code",
   "execution_count": null,
   "id": "b411fba9-a791-441e-89d9-198c282163ab",
   "metadata": {
    "tags": []
   },
   "outputs": [],
   "source": [
    "# 울산 행정구역 json raw파일(githubcontent)\n",
    "r1 = requests.get('https://raw.githubusercontent.com/raqoon886/Local_HangJeongDong/master/hangjeongdong_울산광역시.geojson')\n",
    "c1 = r1.content\n",
    "ulsan_geo = json.loads(c1)"
   ]
  },
  {
   "cell_type": "code",
   "execution_count": null,
   "id": "5a87c832-d3fb-408b-9d46-67aaacf4ab1b",
   "metadata": {},
   "outputs": [],
   "source": [
    "#ulsan_geo"
   ]
  },
  {
   "cell_type": "code",
   "execution_count": null,
   "id": "06bbd0a6-66b8-4ea9-b912-17a37dbb62fc",
   "metadata": {},
   "outputs": [],
   "source": [
    "len(ulsan_geo['features'])"
   ]
  },
  {
   "cell_type": "code",
   "execution_count": null,
   "id": "5e5b1757-3693-4c93-ba56-86fba89fcda9",
   "metadata": {},
   "outputs": [],
   "source": [
    "#ulsan_geo"
   ]
  },
  {
   "cell_type": "code",
   "execution_count": null,
   "id": "3a09bdb3-f644-4d9a-8026-a2938abaef59",
   "metadata": {
    "tags": []
   },
   "outputs": [],
   "source": [
    "ulsan_geo['features'][0]['properties']['adm_nm']"
   ]
  },
  {
   "cell_type": "code",
   "execution_count": null,
   "id": "ff268db0-3b19-450e-b891-6838106840af",
   "metadata": {
    "tags": []
   },
   "outputs": [],
   "source": [
    "def getRegion1(geodata, region):\n",
    "    for i in range(len(geodata['features'])):\n",
    "        if geodata['features'][i]['properties']['adm_nm'] == region:\n",
    "            return geodata['features'][i]"
   ]
  },
  {
   "cell_type": "code",
   "execution_count": null,
   "id": "7194a715-b44b-4901-a728-17fd374fb332",
   "metadata": {
    "tags": []
   },
   "outputs": [],
   "source": [
    "namgu = getRegion1(ulsan_geo, '남구')\n",
    "namgu"
   ]
  },
  {
   "cell_type": "code",
   "execution_count": null,
   "id": "048ff15d-5402-4df6-b2cb-27f9cf121ec5",
   "metadata": {
    "tags": []
   },
   "outputs": [],
   "source": [
    "# 울산 지도\n",
    "ulsan_m = folium.Map(\n",
    "    location=[35.5396224, 129.3093389],\n",
    "    zoom_start=10.5, \n",
    "    tiles='cartodbpositron'\n",
    ")\n",
    "folium.GeoJson(\n",
    "    ulsan_geo, \n",
    ").add_to(ulsan_m)\n",
    "ulsan_m"
   ]
  },
  {
   "cell_type": "code",
   "execution_count": null,
   "id": "060705dc-f7f0-4fea-8c28-54a7ac470b38",
   "metadata": {
    "tags": []
   },
   "outputs": [],
   "source": [
    "ulsan_geo['features'][0]['properties']['adm_nm']"
   ]
  },
  {
   "cell_type": "code",
   "execution_count": null,
   "id": "87839753-2d98-470e-b7f3-703e4496c668",
   "metadata": {
    "tags": []
   },
   "outputs": [],
   "source": [
    "(ulsan_geo['features'][0]['properties']['adm_nm'].split(' '))[1]"
   ]
  },
  {
   "cell_type": "code",
   "execution_count": null,
   "id": "fb3be2d3-ef4d-4769-8747-5477c735a970",
   "metadata": {},
   "outputs": [],
   "source": [
    "# for i in range(len(ulsan_geo['features'])):\n",
    "#     if (ulsan_geo['features'][i]['properties']['adm_nm'].split(' '))[1] == '남구' :\n",
    "#             print(ulsan_geo['features'][i])   "
   ]
  },
  {
   "cell_type": "code",
   "execution_count": null,
   "id": "3b1af707-e872-49f8-a8b1-10fd2f1040c4",
   "metadata": {
    "tags": []
   },
   "outputs": [],
   "source": [
    "# 울산 남구 지도\n",
    "ulsan_namgu = folium.Map(\n",
    "    location=[35.5396224, 129.3093389],\n",
    "    zoom_start=12, \n",
    "    tiles='cartodbpositron'\n",
    ")\n",
    "ulsan_namgu\n",
    "for i in range(len(ulsan_geo['features'])):\n",
    "    if (ulsan_geo['features'][i]['properties']['adm_nm'].split(' '))[1] == '남구':\n",
    "            namgu_m = ulsan_geo['features'][i]\n",
    "            folium.GeoJson(\n",
    "                namgu_m, #'남구'의 구역 표시\n",
    "            ).add_to(ulsan_namgu)\n",
    "ulsan_namgu"
   ]
  },
  {
   "cell_type": "code",
   "execution_count": null,
   "id": "bfd8778d-cab7-4f05-bdc3-67b57be42c08",
   "metadata": {
    "tags": []
   },
   "outputs": [],
   "source": [
    "# 울산시 중구 지도 \n",
    "ulsan_j = folium.Map(\n",
    "    location=[35.5396224, 129.3093389],\n",
    "    zoom_start=12, \n",
    "    tiles='cartodbpositron'\n",
    ")\n",
    "for i in range(len(ulsan_geo['features'])):\n",
    "    if (ulsan_geo['features'][i]['properties']['adm_nm'].split(' '))[1] == '중구':\n",
    "            joong_m = ulsan_geo['features'][i]\n",
    "            folium.GeoJson(\n",
    "                joong_m, #'중구'의 구역 표시\n",
    "            ).add_to(ulsan_j)\n",
    "ulsan_j"
   ]
  },
  {
   "cell_type": "code",
   "execution_count": null,
   "id": "4e0610b8-1387-49ca-b166-cca2d23261d6",
   "metadata": {
    "tags": []
   },
   "outputs": [],
   "source": [
    "# 울산시 울주군 지도 \n",
    "ulsan_ul = folium.Map(\n",
    "    location=[35.5396224, 129.3093389],\n",
    "    zoom_start=12, \n",
    "    tiles='cartodbpositron'\n",
    ")\n",
    "for i in range(len(ulsan_geo['features'])):\n",
    "    if (ulsan_geo['features'][i]['properties']['adm_nm'].split(' '))[1] == '울주군':\n",
    "            ul_m = ulsan_geo['features'][i]\n",
    "            folium.GeoJson(\n",
    "                ul_m, #'울주군'의 구역 표시\n",
    "            ).add_to(ulsan_ul)\n",
    "ulsan_ul"
   ]
  },
  {
   "cell_type": "code",
   "execution_count": null,
   "id": "bd27dd27-4ac7-456a-a6ea-9851672bc887",
   "metadata": {
    "tags": []
   },
   "outputs": [],
   "source": [
    "# 울산시 북구 지도 \n",
    "ulsan_n = folium.Map(\n",
    "    location=[35.5396224, 129.3093389],\n",
    "    zoom_start=12, \n",
    "    tiles='cartodbpositron'\n",
    ")\n",
    "for i in range(len(ulsan_geo['features'])):\n",
    "    if (ulsan_geo['features'][i]['properties']['adm_nm'].split(' '))[1] == '북구':\n",
    "            n_m = ulsan_geo['features'][i]\n",
    "            folium.GeoJson(\n",
    "                n_m, #'북구'의 구역 표시\n",
    "            ).add_to(ulsan_n)\n",
    "ulsan_n"
   ]
  },
  {
   "cell_type": "code",
   "execution_count": null,
   "id": "b0560297-3d94-4346-96fd-df6a4ca86c76",
   "metadata": {},
   "outputs": [],
   "source": []
  }
 ],
 "metadata": {
  "kernelspec": {
   "display_name": "Python 3 (ipykernel)",
   "language": "python",
   "name": "python3"
  },
  "language_info": {
   "codemirror_mode": {
    "name": "ipython",
    "version": 3
   },
   "file_extension": ".py",
   "mimetype": "text/x-python",
   "name": "python",
   "nbconvert_exporter": "python",
   "pygments_lexer": "ipython3",
   "version": "3.10.13"
  }
 },
 "nbformat": 4,
 "nbformat_minor": 5
}
