{
 "cells": [
  {
   "cell_type": "code",
   "execution_count": null,
   "metadata": {
    "tags": []
   },
   "outputs": [],
   "source": [
    "!pip install xlrd"
   ]
  },
  {
   "cell_type": "code",
   "execution_count": null,
   "metadata": {
    "tags": []
   },
   "outputs": [],
   "source": [
    "import pandas as pd\n",
    "import matplotlib.pyplot as plt\n",
    "import folium\n",
    "import matplotlib.font_manager as fm\n",
    "font_name = fm.FontProperties(fname=\"c:/Windows/Fonts/malgun.ttf\").get_name()\n",
    "plt.rc('font', family=font_name)"
   ]
  },
  {
   "cell_type": "code",
   "execution_count": null,
   "metadata": {
    "scrolled": true,
    "tags": []
   },
   "outputs": [],
   "source": [
    "df = pd.read_excel('울산광역시 휴양림.xls')\n",
    "df"
   ]
  },
  {
   "cell_type": "code",
   "execution_count": null,
   "metadata": {
    "tags": []
   },
   "outputs": [],
   "source": [
    "df = df.filter(['휴양림명','소재지도로명주소','경도','위도','홈페이지주소','휴양림전화번호'])\n",
    "df.head(7)"
   ]
  },
  {
   "cell_type": "code",
   "execution_count": null,
   "metadata": {
    "tags": []
   },
   "outputs": [],
   "source": [
    "df = df.fillna('없음')\n",
    "df.head(7)"
   ]
  },
  {
   "cell_type": "markdown",
   "metadata": {},
   "source": [
    "# The default tiles are set to OpenStreetMap, but Stamen Terrain, Stamen Toner, Mapbox Bright, stamenwatercolor, cartodbpositron, cartodbdark_matter and Mapbox Control Room, and many others tiles are built in."
   ]
  },
  {
   "cell_type": "code",
   "execution_count": null,
   "metadata": {
    "tags": []
   },
   "outputs": [],
   "source": [
    "map_ulsan = folium.Map(location=[35.542817, 129.323622], zoom_start=11, tiles='OpenStreetMap')\n",
    "map_ulsan"
   ]
  },
  {
   "cell_type": "code",
   "execution_count": null,
   "metadata": {
    "scrolled": true,
    "tags": []
   },
   "outputs": [],
   "source": [
    "for i in df.index:\n",
    "    lat = df.loc[i, '위도']\n",
    "    lng = df.loc[i, '경도']\n",
    "    contents = folium.Popup('<b>' + df.loc[i, '휴양림명'] + '</b>' + '<br>'\n",
    "                            + df.loc[i, '소재지도로명주소'] + '<br>'\n",
    "                            + str(df.loc[i, '휴양림전화번호'] + '<br>'\n",
    "                            + '<center>' + '<a href='+ df.loc[i, '홈페이지주소'] + '>' + '홈페이지' + '</a>' + '</center>'), \n",
    "                            max_width=300)\n",
    "    marker = folium.Marker([lat, lng], popup=contents, icon=folium.Icon(icon='info-sign', color='orange'))\n",
    "    marker.add_to(map_ulsan)\n",
    "\n",
    "map_ulsan.save('울산_휴양림.html')\n",
    "map_ulsan"
   ]
  },
  {
   "cell_type": "code",
   "execution_count": null,
   "metadata": {},
   "outputs": [],
   "source": []
  },
  {
   "cell_type": "code",
   "execution_count": null,
   "metadata": {},
   "outputs": [],
   "source": []
  }
 ],
 "metadata": {
  "kernelspec": {
   "display_name": "Python 3 (ipykernel)",
   "language": "python",
   "name": "python3"
  },
  "language_info": {
   "codemirror_mode": {
    "name": "ipython",
    "version": 3
   },
   "file_extension": ".py",
   "mimetype": "text/x-python",
   "name": "python",
   "nbconvert_exporter": "python",
   "pygments_lexer": "ipython3",
   "version": "3.10.12"
  }
 },
 "nbformat": 4,
 "nbformat_minor": 4
}
