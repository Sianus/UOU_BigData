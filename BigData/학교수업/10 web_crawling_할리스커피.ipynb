{
 "cells": [
  {
   "cell_type": "code",
   "execution_count": 1,
   "metadata": {
    "tags": []
   },
   "outputs": [],
   "source": [
    "import numpy as np\n",
    "import pandas as pd\n",
    "import matplotlib.pyplot as plt\n",
    "import folium\n",
    "import seaborn as sns\n",
    "import matplotlib.font_manager as fm\n",
    "font_name = fm.FontProperties(fname=\"c:/Windows/Fonts/malgun.ttf\").get_name()\n",
    "plt.rc('font', family=font_name)\n",
    "\n",
    "# upyternotebook(또는 ipython)에서 경고 메시지를 무시하고 싶을 때 선언\n",
    "import warnings\n",
    "warnings.filterwarnings(action='ignore')"
   ]
  },
  {
   "cell_type": "markdown",
   "metadata": {},
   "source": [
    "### 할리스 커피 매장 찾기"
   ]
  },
  {
   "cell_type": "code",
   "execution_count": 2,
   "metadata": {
    "tags": []
   },
   "outputs": [],
   "source": [
    "from bs4 import BeautifulSoup\n",
    "import urllib.request\n",
    "import pandas as pd\n",
    "import datetime"
   ]
  },
  {
   "cell_type": "code",
   "execution_count": 3,
   "metadata": {
    "tags": []
   },
   "outputs": [
    {
     "name": "stdout",
     "output_type": "stream",
     "text": [
      "https://www.hollys.co.kr/store/korea/korStore.do?pageNo=1&sido=&gugun=&store=\n"
     ]
    }
   ],
   "source": [
    "Hollys_url = 'https://www.hollys.co.kr/store/korea/korStore.do?pageNo=%d&sido=&gugun=&store=' %1        \n",
    "\n",
    "print(Hollys_url)\n",
    "html1 = urllib.request.urlopen(Hollys_url)\n",
    "Hollys = BeautifulSoup(html1, 'lxml')   #'html', 'html.parser'"
   ]
  },
  {
   "cell_type": "code",
   "execution_count": 34,
   "metadata": {},
   "outputs": [],
   "source": [
    "# Hollys"
   ]
  },
  {
   "cell_type": "code",
   "execution_count": 4,
   "metadata": {
    "tags": []
   },
   "outputs": [],
   "source": [
    "t_tbody = Hollys.find('tbody')"
   ]
  },
  {
   "cell_type": "code",
   "execution_count": 5,
   "metadata": {
    "tags": []
   },
   "outputs": [],
   "source": [
    "t_tr = t_tbody.find_all('tr')"
   ]
  },
  {
   "cell_type": "code",
   "execution_count": 6,
   "metadata": {
    "tags": []
   },
   "outputs": [
    {
     "name": "stdout",
     "output_type": "stream",
     "text": [
      "<td class=\"noline center_t\">경기 부천시 소사구</td> <td class=\"center_t\"><a href=\"#\" onclick=\"javascript:storeView(1080); return false;\">부천심곡점</a></td> <td class=\"center_t\"><a href=\"#\" onclick=\"javascript:storeView(1080); return false;\">경기도 부천시 장말로 376 심곡동 355-1</a></td> <td class=\"center_t\">032-612-7258</td>\n"
     ]
    }
   ],
   "source": [
    "t_td = t_tbody.find_all('td')\n",
    "print(t_td[0], t_td[1], t_td[3], t_td[5])"
   ]
  },
  {
   "cell_type": "code",
   "execution_count": 7,
   "metadata": {
    "tags": []
   },
   "outputs": [
    {
     "name": "stdout",
     "output_type": "stream",
     "text": [
      "경기 부천시 소사구 부천심곡점 경기도 부천시 장말로 376 심곡동 355-1 032-612-7258\n"
     ]
    }
   ],
   "source": [
    "print(t_td[0].string, t_td[1].string, t_td[3].string, t_td[5].string)"
   ]
  },
  {
   "cell_type": "code",
   "execution_count": 8,
   "metadata": {
    "tags": []
   },
   "outputs": [
    {
     "name": "stdout",
     "output_type": "stream",
     "text": [
      "경기 부천시 소사구 부천심곡점 경기도 부천시 장말로 376 심곡동 355-1 032-612-7258\n"
     ]
    }
   ],
   "source": [
    "print(t_td[0].text, t_td[1].text, t_td[3].text, t_td[5].text)"
   ]
  },
  {
   "cell_type": "code",
   "execution_count": 9,
   "metadata": {
    "tags": []
   },
   "outputs": [
    {
     "name": "stdout",
     "output_type": "stream",
     "text": [
      "경기 부천시 소사구 부천심곡점 경기도 부천시 장말로 376 심곡동 355-1 032-612-7258\n"
     ]
    }
   ],
   "source": [
    "print(t_td[0].get_text(), t_td[1].get_text(), t_td[3].get_text(), t_td[5].get_text())"
   ]
  },
  {
   "cell_type": "code",
   "execution_count": 10,
   "metadata": {
    "tags": []
   },
   "outputs": [
    {
     "data": {
      "text/plain": [
       "[<td class=\"noline center_t\">경기 부천시 소사구</td>,\n",
       " <td class=\"noline center_t\">경기 성남시 분당구</td>,\n",
       " <td class=\"noline center_t\">부산 사상구</td>,\n",
       " <td class=\"noline center_t\">서울 성동구</td>,\n",
       " <td class=\"noline center_t\">서울 마포구</td>,\n",
       " <td class=\"noline center_t\">인천 남동구</td>,\n",
       " <td class=\"noline center_t\">경기 성남시 수정구</td>,\n",
       " <td class=\"noline center_t\">서울 강북구</td>,\n",
       " <td class=\"noline center_t\">경기 하남시</td>,\n",
       " <td class=\"noline center_t\">서울 영등포구</td>]"
      ]
     },
     "execution_count": 10,
     "metadata": {},
     "output_type": "execute_result"
    }
   ],
   "source": [
    "t_tbody.find_all(\"td\", attrs={\"class\":\"noline center_t\"})"
   ]
  },
  {
   "cell_type": "code",
   "execution_count": 11,
   "metadata": {
    "tags": []
   },
   "outputs": [
    {
     "data": {
      "text/plain": [
       "[<td class=\"noline center_t\">경기 부천시 소사구</td>,\n",
       " <td class=\"noline center_t\">경기 성남시 분당구</td>,\n",
       " <td class=\"noline center_t\">부산 사상구</td>,\n",
       " <td class=\"noline center_t\">서울 성동구</td>,\n",
       " <td class=\"noline center_t\">서울 마포구</td>,\n",
       " <td class=\"noline center_t\">인천 남동구</td>,\n",
       " <td class=\"noline center_t\">경기 성남시 수정구</td>,\n",
       " <td class=\"noline center_t\">서울 강북구</td>,\n",
       " <td class=\"noline center_t\">경기 하남시</td>,\n",
       " <td class=\"noline center_t\">서울 영등포구</td>]"
      ]
     },
     "execution_count": 11,
     "metadata": {},
     "output_type": "execute_result"
    }
   ],
   "source": [
    "Hollys.find_all(\"td\", attrs={\"class\":\"noline center_t\"})"
   ]
  },
  {
   "cell_type": "code",
   "execution_count": null,
   "metadata": {},
   "outputs": [],
   "source": []
  },
  {
   "cell_type": "code",
   "execution_count": 12,
   "metadata": {
    "tags": []
   },
   "outputs": [
    {
     "name": "stdout",
     "output_type": "stream",
     "text": [
      "https://www.hollys.co.kr/store/korea/korStore.do?pageNo=1&sido=&gugun=&store=\n",
      "https://www.hollys.co.kr/store/korea/korStore.do?pageNo=2&sido=&gugun=&store=\n",
      "https://www.hollys.co.kr/store/korea/korStore.do?pageNo=3&sido=&gugun=&store=\n",
      "https://www.hollys.co.kr/store/korea/korStore.do?pageNo=4&sido=&gugun=&store=\n",
      "https://www.hollys.co.kr/store/korea/korStore.do?pageNo=5&sido=&gugun=&store=\n",
      "https://www.hollys.co.kr/store/korea/korStore.do?pageNo=6&sido=&gugun=&store=\n",
      "https://www.hollys.co.kr/store/korea/korStore.do?pageNo=7&sido=&gugun=&store=\n",
      "https://www.hollys.co.kr/store/korea/korStore.do?pageNo=8&sido=&gugun=&store=\n",
      "https://www.hollys.co.kr/store/korea/korStore.do?pageNo=9&sido=&gugun=&store=\n",
      "https://www.hollys.co.kr/store/korea/korStore.do?pageNo=10&sido=&gugun=&store=\n",
      "https://www.hollys.co.kr/store/korea/korStore.do?pageNo=11&sido=&gugun=&store=\n",
      "https://www.hollys.co.kr/store/korea/korStore.do?pageNo=12&sido=&gugun=&store=\n",
      "https://www.hollys.co.kr/store/korea/korStore.do?pageNo=13&sido=&gugun=&store=\n",
      "https://www.hollys.co.kr/store/korea/korStore.do?pageNo=14&sido=&gugun=&store=\n",
      "https://www.hollys.co.kr/store/korea/korStore.do?pageNo=15&sido=&gugun=&store=\n",
      "https://www.hollys.co.kr/store/korea/korStore.do?pageNo=16&sido=&gugun=&store=\n",
      "https://www.hollys.co.kr/store/korea/korStore.do?pageNo=17&sido=&gugun=&store=\n",
      "https://www.hollys.co.kr/store/korea/korStore.do?pageNo=18&sido=&gugun=&store=\n",
      "https://www.hollys.co.kr/store/korea/korStore.do?pageNo=19&sido=&gugun=&store=\n",
      "https://www.hollys.co.kr/store/korea/korStore.do?pageNo=20&sido=&gugun=&store=\n",
      "https://www.hollys.co.kr/store/korea/korStore.do?pageNo=21&sido=&gugun=&store=\n",
      "https://www.hollys.co.kr/store/korea/korStore.do?pageNo=22&sido=&gugun=&store=\n",
      "https://www.hollys.co.kr/store/korea/korStore.do?pageNo=23&sido=&gugun=&store=\n",
      "https://www.hollys.co.kr/store/korea/korStore.do?pageNo=24&sido=&gugun=&store=\n",
      "https://www.hollys.co.kr/store/korea/korStore.do?pageNo=25&sido=&gugun=&store=\n",
      "https://www.hollys.co.kr/store/korea/korStore.do?pageNo=26&sido=&gugun=&store=\n",
      "https://www.hollys.co.kr/store/korea/korStore.do?pageNo=27&sido=&gugun=&store=\n",
      "https://www.hollys.co.kr/store/korea/korStore.do?pageNo=28&sido=&gugun=&store=\n",
      "https://www.hollys.co.kr/store/korea/korStore.do?pageNo=29&sido=&gugun=&store=\n",
      "https://www.hollys.co.kr/store/korea/korStore.do?pageNo=30&sido=&gugun=&store=\n",
      "https://www.hollys.co.kr/store/korea/korStore.do?pageNo=31&sido=&gugun=&store=\n",
      "https://www.hollys.co.kr/store/korea/korStore.do?pageNo=32&sido=&gugun=&store=\n",
      "https://www.hollys.co.kr/store/korea/korStore.do?pageNo=33&sido=&gugun=&store=\n",
      "https://www.hollys.co.kr/store/korea/korStore.do?pageNo=34&sido=&gugun=&store=\n",
      "https://www.hollys.co.kr/store/korea/korStore.do?pageNo=35&sido=&gugun=&store=\n",
      "https://www.hollys.co.kr/store/korea/korStore.do?pageNo=36&sido=&gugun=&store=\n",
      "https://www.hollys.co.kr/store/korea/korStore.do?pageNo=37&sido=&gugun=&store=\n",
      "https://www.hollys.co.kr/store/korea/korStore.do?pageNo=38&sido=&gugun=&store=\n",
      "https://www.hollys.co.kr/store/korea/korStore.do?pageNo=39&sido=&gugun=&store=\n",
      "https://www.hollys.co.kr/store/korea/korStore.do?pageNo=40&sido=&gugun=&store=\n",
      "https://www.hollys.co.kr/store/korea/korStore.do?pageNo=41&sido=&gugun=&store=\n",
      "https://www.hollys.co.kr/store/korea/korStore.do?pageNo=42&sido=&gugun=&store=\n",
      "https://www.hollys.co.kr/store/korea/korStore.do?pageNo=43&sido=&gugun=&store=\n",
      "https://www.hollys.co.kr/store/korea/korStore.do?pageNo=44&sido=&gugun=&store=\n",
      "https://www.hollys.co.kr/store/korea/korStore.do?pageNo=45&sido=&gugun=&store=\n",
      "https://www.hollys.co.kr/store/korea/korStore.do?pageNo=46&sido=&gugun=&store=\n",
      "https://www.hollys.co.kr/store/korea/korStore.do?pageNo=47&sido=&gugun=&store=\n",
      "https://www.hollys.co.kr/store/korea/korStore.do?pageNo=48&sido=&gugun=&store=\n",
      "https://www.hollys.co.kr/store/korea/korStore.do?pageNo=49&sido=&gugun=&store=\n",
      "https://www.hollys.co.kr/store/korea/korStore.do?pageNo=50&sido=&gugun=&store=\n",
      "https://www.hollys.co.kr/store/korea/korStore.do?pageNo=51&sido=&gugun=&store=\n",
      "https://www.hollys.co.kr/store/korea/korStore.do?pageNo=52&sido=&gugun=&store=\n",
      "https://www.hollys.co.kr/store/korea/korStore.do?pageNo=53&sido=&gugun=&store=\n",
      "https://www.hollys.co.kr/store/korea/korStore.do?pageNo=54&sido=&gugun=&store=\n",
      "https://www.hollys.co.kr/store/korea/korStore.do?pageNo=55&sido=&gugun=&store=\n",
      "https://www.hollys.co.kr/store/korea/korStore.do?pageNo=56&sido=&gugun=&store=\n",
      "https://www.hollys.co.kr/store/korea/korStore.do?pageNo=57&sido=&gugun=&store=\n",
      "https://www.hollys.co.kr/store/korea/korStore.do?pageNo=58&sido=&gugun=&store=\n"
     ]
    }
   ],
   "source": [
    "result = [] \n",
    "for page in range(1,59):\n",
    "    Hollys_url = 'https://www.hollys.co.kr/store/korea/korStore.do?pageNo=%d&sido=&gugun=&store=' %page        \n",
    "\n",
    "    print(Hollys_url)\n",
    "    html = urllib.request.urlopen(Hollys_url)\n",
    "    soupHollys = BeautifulSoup(html, 'html.parser')\n",
    "    tag_tbody = soupHollys.find('tbody')\n",
    "    for store in tag_tbody.find_all('tr'):\n",
    "        if len(store) <= 3:\n",
    "            break\n",
    "        store_td = store.find_all('td')\n",
    "        store_name = store_td[1].string\n",
    "        store_sido = store_td[0].string\n",
    "        store_address = store_td[3].string\n",
    "        store_phone = store_td[5].string\n",
    "        result.append([store_name]+[store_sido]+[store_address]\n",
    "                      +[store_phone])"
   ]
  },
  {
   "cell_type": "code",
   "execution_count": 13,
   "metadata": {
    "tags": []
   },
   "outputs": [
    {
     "data": {
      "text/plain": [
       "567"
      ]
     },
     "execution_count": 13,
     "metadata": {},
     "output_type": "execute_result"
    }
   ],
   "source": [
    "len(result)"
   ]
  },
  {
   "cell_type": "code",
   "execution_count": 14,
   "metadata": {
    "tags": []
   },
   "outputs": [
    {
     "data": {
      "text/plain": [
       "['부천심곡점', '경기 부천시 소사구', '경기도 부천시 장말로 376 심곡동 355-1', '032-612-7258']"
      ]
     },
     "execution_count": 14,
     "metadata": {},
     "output_type": "execute_result"
    }
   ],
   "source": [
    "result[0]"
   ]
  },
  {
   "cell_type": "code",
   "execution_count": 15,
   "metadata": {
    "tags": []
   },
   "outputs": [
    {
     "data": {
      "text/plain": [
       "['성남점', '경기 성남시 수정구', '경기도 성남시 수정구 수정로 175, 동일빌딩1층', '031-721-6369']"
      ]
     },
     "execution_count": 15,
     "metadata": {},
     "output_type": "execute_result"
    }
   ],
   "source": [
    "result[566]"
   ]
  },
  {
   "cell_type": "code",
   "execution_count": 16,
   "metadata": {
    "tags": []
   },
   "outputs": [
    {
     "data": {
      "text/plain": [
       "[<td class=\"noline center_t\">경기 성남시 수정구</td>,\n",
       " <td class=\"center_t\"><a href=\"#\" onclick=\"javascript:storeView(11); return false;\">성남점</a></td>,\n",
       " <td class=\"center_t tdp0\">영업중</td>,\n",
       " <td class=\"center_t\"><a href=\"#\" onclick=\"javascript:storeView(11); return false;\">경기도 성남시 수정구 수정로 175, 동일빌딩1층</a></td>,\n",
       " <td class=\"center_t\">\n",
       " <img alt=\"흡연시설\" src=\"https://www.hollys.co.kr/websrc/images/store/img_store_s04.gif\" style=\"margin-right:1px\"/>\n",
       " </td>,\n",
       " <td class=\"center_t\">031-721-6369</td>]"
      ]
     },
     "execution_count": 16,
     "metadata": {},
     "output_type": "execute_result"
    }
   ],
   "source": [
    "store_td"
   ]
  },
  {
   "cell_type": "code",
   "execution_count": 17,
   "metadata": {
    "tags": []
   },
   "outputs": [
    {
     "data": {
      "text/plain": [
       "'성남점'"
      ]
     },
     "execution_count": 17,
     "metadata": {},
     "output_type": "execute_result"
    }
   ],
   "source": [
    "store_td[1].string"
   ]
  },
  {
   "cell_type": "code",
   "execution_count": 18,
   "metadata": {
    "tags": []
   },
   "outputs": [
    {
     "data": {
      "text/plain": [
       "'경기 성남시 수정구'"
      ]
     },
     "execution_count": 18,
     "metadata": {},
     "output_type": "execute_result"
    }
   ],
   "source": [
    "store_td[0].string"
   ]
  },
  {
   "cell_type": "code",
   "execution_count": 19,
   "metadata": {
    "tags": []
   },
   "outputs": [
    {
     "data": {
      "text/plain": [
       "'경기도 성남시 수정구 수정로 175, 동일빌딩1층'"
      ]
     },
     "execution_count": 19,
     "metadata": {},
     "output_type": "execute_result"
    }
   ],
   "source": [
    "store_td[3].string"
   ]
  },
  {
   "cell_type": "code",
   "execution_count": 20,
   "metadata": {
    "tags": []
   },
   "outputs": [
    {
     "data": {
      "text/plain": [
       "'031-721-6369'"
      ]
     },
     "execution_count": 20,
     "metadata": {},
     "output_type": "execute_result"
    }
   ],
   "source": [
    "store_td[5].string"
   ]
  },
  {
   "cell_type": "code",
   "execution_count": 21,
   "metadata": {
    "tags": []
   },
   "outputs": [],
   "source": [
    "hollys_df = pd.DataFrame(result, columns = ('store','sido-gu','address','phone'))"
   ]
  },
  {
   "cell_type": "code",
   "execution_count": 22,
   "metadata": {
    "tags": []
   },
   "outputs": [
    {
     "data": {
      "text/html": [
       "<div>\n",
       "<style scoped>\n",
       "    .dataframe tbody tr th:only-of-type {\n",
       "        vertical-align: middle;\n",
       "    }\n",
       "\n",
       "    .dataframe tbody tr th {\n",
       "        vertical-align: top;\n",
       "    }\n",
       "\n",
       "    .dataframe thead th {\n",
       "        text-align: right;\n",
       "    }\n",
       "</style>\n",
       "<table border=\"1\" class=\"dataframe\">\n",
       "  <thead>\n",
       "    <tr style=\"text-align: right;\">\n",
       "      <th></th>\n",
       "      <th>store</th>\n",
       "      <th>sido-gu</th>\n",
       "      <th>address</th>\n",
       "      <th>phone</th>\n",
       "    </tr>\n",
       "  </thead>\n",
       "  <tbody>\n",
       "    <tr>\n",
       "      <th>0</th>\n",
       "      <td>부천심곡점</td>\n",
       "      <td>경기 부천시 소사구</td>\n",
       "      <td>경기도 부천시 장말로 376 심곡동 355-1</td>\n",
       "      <td>032-612-7258</td>\n",
       "    </tr>\n",
       "    <tr>\n",
       "      <th>1</th>\n",
       "      <td>성남터미널점</td>\n",
       "      <td>경기 성남시 분당구</td>\n",
       "      <td>경기도 성남시 분당구 성남대로925번길 16, 성남종합버스터미널 1층</td>\n",
       "      <td>031-725-1004</td>\n",
       "    </tr>\n",
       "    <tr>\n",
       "      <th>2</th>\n",
       "      <td>부산백양대로점</td>\n",
       "      <td>부산 사상구</td>\n",
       "      <td>괘법동 141</td>\n",
       "      <td>051-311-5399</td>\n",
       "    </tr>\n",
       "    <tr>\n",
       "      <th>3</th>\n",
       "      <td>왕십리역점</td>\n",
       "      <td>서울 성동구</td>\n",
       "      <td>성동구 왕십리광장로 17 (행당동 168-151 ), 비트플렉스몰 3층</td>\n",
       "      <td>02-2200-1303</td>\n",
       "    </tr>\n",
       "    <tr>\n",
       "      <th>4</th>\n",
       "      <td>홍대출판사거리점</td>\n",
       "      <td>서울 마포구</td>\n",
       "      <td>서울시 마포구 독막로7길 40, 1층</td>\n",
       "      <td>02-332-3567</td>\n",
       "    </tr>\n",
       "    <tr>\n",
       "      <th>...</th>\n",
       "      <td>...</td>\n",
       "      <td>...</td>\n",
       "      <td>...</td>\n",
       "      <td>...</td>\n",
       "    </tr>\n",
       "    <tr>\n",
       "      <th>562</th>\n",
       "      <td>마포역점</td>\n",
       "      <td>서울 마포구</td>\n",
       "      <td>서울시 마포구 도화동 555 한화오벨리스크B1 137~9</td>\n",
       "      <td>02-713-8788</td>\n",
       "    </tr>\n",
       "    <tr>\n",
       "      <th>563</th>\n",
       "      <td>금천점</td>\n",
       "      <td>서울 금천구</td>\n",
       "      <td>서울시 금천구 시흥대로 399, 씨티렉스604호</td>\n",
       "      <td>02-805-9908</td>\n",
       "    </tr>\n",
       "    <tr>\n",
       "      <th>564</th>\n",
       "      <td>영등포점</td>\n",
       "      <td>서울 영등포구</td>\n",
       "      <td>서울시 영등포구 경인로 847</td>\n",
       "      <td>070-4159-8897</td>\n",
       "    </tr>\n",
       "    <tr>\n",
       "      <th>565</th>\n",
       "      <td>신촌점</td>\n",
       "      <td>서울 서대문구</td>\n",
       "      <td>서울시 서대문구 연세로 34</td>\n",
       "      <td>02-393-2004</td>\n",
       "    </tr>\n",
       "    <tr>\n",
       "      <th>566</th>\n",
       "      <td>성남점</td>\n",
       "      <td>경기 성남시 수정구</td>\n",
       "      <td>경기도 성남시 수정구 수정로 175, 동일빌딩1층</td>\n",
       "      <td>031-721-6369</td>\n",
       "    </tr>\n",
       "  </tbody>\n",
       "</table>\n",
       "<p>567 rows × 4 columns</p>\n",
       "</div>"
      ],
      "text/plain": [
       "        store     sido-gu                                  address  \\\n",
       "0       부천심곡점  경기 부천시 소사구                경기도 부천시 장말로 376 심곡동 355-1   \n",
       "1      성남터미널점  경기 성남시 분당구   경기도 성남시 분당구 성남대로925번길 16, 성남종합버스터미널 1층   \n",
       "2     부산백양대로점      부산 사상구                                  괘법동 141   \n",
       "3       왕십리역점      서울 성동구  성동구 왕십리광장로 17 (행당동 168-151 ), 비트플렉스몰 3층   \n",
       "4    홍대출판사거리점      서울 마포구                     서울시 마포구 독막로7길 40, 1층   \n",
       "..        ...         ...                                      ...   \n",
       "562      마포역점      서울 마포구          서울시 마포구 도화동 555 한화오벨리스크B1 137~9   \n",
       "563       금천점      서울 금천구               서울시 금천구 시흥대로 399, 씨티렉스604호   \n",
       "564      영등포점     서울 영등포구                        서울시 영등포구 경인로 847    \n",
       "565       신촌점     서울 서대문구                         서울시 서대문구 연세로 34    \n",
       "566       성남점  경기 성남시 수정구              경기도 성남시 수정구 수정로 175, 동일빌딩1층   \n",
       "\n",
       "             phone  \n",
       "0     032-612-7258  \n",
       "1     031-725-1004  \n",
       "2     051-311-5399  \n",
       "3     02-2200-1303  \n",
       "4      02-332-3567  \n",
       "..             ...  \n",
       "562    02-713-8788  \n",
       "563    02-805-9908  \n",
       "564  070-4159-8897  \n",
       "565    02-393-2004  \n",
       "566   031-721-6369  \n",
       "\n",
       "[567 rows x 4 columns]"
      ]
     },
     "execution_count": 22,
     "metadata": {},
     "output_type": "execute_result"
    }
   ],
   "source": [
    "hollys_df"
   ]
  },
  {
   "cell_type": "code",
   "execution_count": 104,
   "metadata": {},
   "outputs": [
    {
     "data": {
      "text/html": [
       "<div>\n",
       "<style scoped>\n",
       "    .dataframe tbody tr th:only-of-type {\n",
       "        vertical-align: middle;\n",
       "    }\n",
       "\n",
       "    .dataframe tbody tr th {\n",
       "        vertical-align: top;\n",
       "    }\n",
       "\n",
       "    .dataframe thead th {\n",
       "        text-align: right;\n",
       "    }\n",
       "</style>\n",
       "<table border=\"1\" class=\"dataframe\">\n",
       "  <thead>\n",
       "    <tr style=\"text-align: right;\">\n",
       "      <th></th>\n",
       "      <th>store</th>\n",
       "      <th>sido-gu</th>\n",
       "      <th>address</th>\n",
       "      <th>phone</th>\n",
       "    </tr>\n",
       "  </thead>\n",
       "  <tbody>\n",
       "    <tr>\n",
       "      <th>27</th>\n",
       "      <td>할리스커피 울산시청점</td>\n",
       "      <td>울산 남구</td>\n",
       "      <td>삼산로 60, 1층(신정동)</td>\n",
       "      <td>070-7733-7108</td>\n",
       "    </tr>\n",
       "    <tr>\n",
       "      <th>56</th>\n",
       "      <td>울산옥동대공원점</td>\n",
       "      <td>울산 남구</td>\n",
       "      <td>문수로 377 (옥동)</td>\n",
       "      <td>070-7733-9102</td>\n",
       "    </tr>\n",
       "    <tr>\n",
       "      <th>78</th>\n",
       "      <td>울산삼산대로점</td>\n",
       "      <td>울산 남구</td>\n",
       "      <td>울산시 남구 삼산동 1559-15</td>\n",
       "      <td>052-293-2234</td>\n",
       "    </tr>\n",
       "    <tr>\n",
       "      <th>95</th>\n",
       "      <td>울산풍차DT점</td>\n",
       "      <td>울산 북구</td>\n",
       "      <td>신천동 456</td>\n",
       "      <td>052-292-8180</td>\n",
       "    </tr>\n",
       "    <tr>\n",
       "      <th>111</th>\n",
       "      <td>울산명촌점</td>\n",
       "      <td>울산 북구</td>\n",
       "      <td>울산광역시 북구 명촌로 59</td>\n",
       "      <td>052-289-9905</td>\n",
       "    </tr>\n",
       "    <tr>\n",
       "      <th>171</th>\n",
       "      <td>울산디자인거리점</td>\n",
       "      <td>울산 남구</td>\n",
       "      <td>울산광역시 남구 돋질로302번길 38 1,2층</td>\n",
       "      <td>052-256-0566</td>\n",
       "    </tr>\n",
       "    <tr>\n",
       "      <th>190</th>\n",
       "      <td>울산태화강공원점</td>\n",
       "      <td>울산 중구</td>\n",
       "      <td>울산광역시 중구 신기길 130-1</td>\n",
       "      <td>None</td>\n",
       "    </tr>\n",
       "    <tr>\n",
       "      <th>206</th>\n",
       "      <td>울산공항1호점</td>\n",
       "      <td>울산 북구</td>\n",
       "      <td>울산광역시 북구 산업로 1103 울산공항 2층 일반대합실</td>\n",
       "      <td>052-289-5525</td>\n",
       "    </tr>\n",
       "    <tr>\n",
       "      <th>207</th>\n",
       "      <td>울산공항2호점</td>\n",
       "      <td>울산 북구</td>\n",
       "      <td>울산광역시 북구 산업로 1103 울산공항 2층 격리대합실</td>\n",
       "      <td>None</td>\n",
       "    </tr>\n",
       "    <tr>\n",
       "      <th>303</th>\n",
       "      <td>울산정자해변점</td>\n",
       "      <td>울산 북구</td>\n",
       "      <td>울산광역시 북구 동해안로 1580 1~2층</td>\n",
       "      <td>052-294-2888</td>\n",
       "    </tr>\n",
       "    <tr>\n",
       "      <th>338</th>\n",
       "      <td>울산간절곶해맞이점</td>\n",
       "      <td>울산 울주군</td>\n",
       "      <td>울산광역시 울주군 서생면 나사해안길 135, 1~2층</td>\n",
       "      <td>052-239-5336</td>\n",
       "    </tr>\n",
       "    <tr>\n",
       "      <th>435</th>\n",
       "      <td>울산삼산점</td>\n",
       "      <td>울산 남구</td>\n",
       "      <td>울산시 남구 삼산중로 50, 2층</td>\n",
       "      <td>052-260-1121</td>\n",
       "    </tr>\n",
       "    <tr>\n",
       "      <th>464</th>\n",
       "      <td>울산역사점</td>\n",
       "      <td>울산 울주군</td>\n",
       "      <td>울산시 울주군 삼남면 신화리 471번지</td>\n",
       "      <td>None</td>\n",
       "    </tr>\n",
       "  </tbody>\n",
       "</table>\n",
       "</div>"
      ],
      "text/plain": [
       "           store sido-gu                           address          phone\n",
       "27   할리스커피 울산시청점   울산 남구                   삼산로 60, 1층(신정동)  070-7733-7108\n",
       "56      울산옥동대공원점   울산 남구                      문수로 377 (옥동)  070-7733-9102\n",
       "78       울산삼산대로점   울산 남구                울산시 남구 삼산동 1559-15   052-293-2234\n",
       "95       울산풍차DT점   울산 북구                           신천동 456   052-292-8180\n",
       "111        울산명촌점   울산 북구                  울산광역시 북구 명촌로 59    052-289-9905\n",
       "171     울산디자인거리점   울산 남구         울산광역시 남구 돋질로302번길 38 1,2층   052-256-0566\n",
       "190     울산태화강공원점   울산 중구                울산광역시 중구 신기길 130-1           None\n",
       "206      울산공항1호점   울산 북구   울산광역시 북구 산업로 1103 울산공항 2층 일반대합실   052-289-5525\n",
       "207      울산공항2호점   울산 북구  울산광역시 북구 산업로 1103 울산공항 2층 격리대합실            None\n",
       "303      울산정자해변점   울산 북구           울산광역시 북구 동해안로 1580 1~2층   052-294-2888\n",
       "338    울산간절곶해맞이점  울산 울주군     울산광역시 울주군 서생면 나사해안길 135, 1~2층   052-239-5336\n",
       "435        울산삼산점   울산 남구                울산시 남구 삼산중로 50, 2층   052-260-1121\n",
       "464        울산역사점  울산 울주군            울산시 울주군 삼남면 신화리 471번지            None"
      ]
     },
     "execution_count": 104,
     "metadata": {},
     "output_type": "execute_result"
    }
   ],
   "source": [
    "# sido-gu 가 울산지역 추출하기 \n",
    "hollys_ulsan = hollys_df[hollys_df['sido-gu'].str.contains('울산')]\n",
    "hollys_ulsan"
   ]
  },
  {
   "cell_type": "code",
   "execution_count": 105,
   "metadata": {},
   "outputs": [
    {
     "data": {
      "text/html": [
       "<div>\n",
       "<style scoped>\n",
       "    .dataframe tbody tr th:only-of-type {\n",
       "        vertical-align: middle;\n",
       "    }\n",
       "\n",
       "    .dataframe tbody tr th {\n",
       "        vertical-align: top;\n",
       "    }\n",
       "\n",
       "    .dataframe thead th {\n",
       "        text-align: right;\n",
       "    }\n",
       "</style>\n",
       "<table border=\"1\" class=\"dataframe\">\n",
       "  <thead>\n",
       "    <tr style=\"text-align: right;\">\n",
       "      <th></th>\n",
       "      <th>store</th>\n",
       "      <th>sido-gu</th>\n",
       "      <th>address</th>\n",
       "      <th>phone</th>\n",
       "    </tr>\n",
       "  </thead>\n",
       "  <tbody>\n",
       "    <tr>\n",
       "      <th>3</th>\n",
       "      <td>왕십리역점</td>\n",
       "      <td>서울 성동구</td>\n",
       "      <td>성동구 왕십리광장로 17 (행당동 168-151 ), 비트플렉스몰 3층</td>\n",
       "      <td>02-2200-1303</td>\n",
       "    </tr>\n",
       "    <tr>\n",
       "      <th>4</th>\n",
       "      <td>홍대출판사거리점</td>\n",
       "      <td>서울 마포구</td>\n",
       "      <td>서울시 마포구 독막로7길 40, 1층</td>\n",
       "      <td>02-332-3567</td>\n",
       "    </tr>\n",
       "    <tr>\n",
       "      <th>7</th>\n",
       "      <td>수유사거리점</td>\n",
       "      <td>서울 강북구</td>\n",
       "      <td>서울시 강북구 도봉로 82길 11 (2~4층)</td>\n",
       "      <td>070-5226-1999</td>\n",
       "    </tr>\n",
       "    <tr>\n",
       "      <th>9</th>\n",
       "      <td>전경련회관점</td>\n",
       "      <td>서울 영등포구</td>\n",
       "      <td>서울시 영등포구 여의도동 28-1 전경련신축회관 B109-11</td>\n",
       "      <td>02-786-3485</td>\n",
       "    </tr>\n",
       "    <tr>\n",
       "      <th>12</th>\n",
       "      <td>신월사거리점</td>\n",
       "      <td>서울 양천구</td>\n",
       "      <td>가로공원로 113, 1층</td>\n",
       "      <td>02-2606-5040</td>\n",
       "    </tr>\n",
       "    <tr>\n",
       "      <th>...</th>\n",
       "      <td>...</td>\n",
       "      <td>...</td>\n",
       "      <td>...</td>\n",
       "      <td>...</td>\n",
       "    </tr>\n",
       "    <tr>\n",
       "      <th>561</th>\n",
       "      <td>교통회관점</td>\n",
       "      <td>서울 송파구</td>\n",
       "      <td>서울시 송파구 올림픽로 319 교통회관 1층</td>\n",
       "      <td>02-3431-1120</td>\n",
       "    </tr>\n",
       "    <tr>\n",
       "      <th>562</th>\n",
       "      <td>마포역점</td>\n",
       "      <td>서울 마포구</td>\n",
       "      <td>서울시 마포구 도화동 555 한화오벨리스크B1 137~9</td>\n",
       "      <td>02-713-8788</td>\n",
       "    </tr>\n",
       "    <tr>\n",
       "      <th>563</th>\n",
       "      <td>금천점</td>\n",
       "      <td>서울 금천구</td>\n",
       "      <td>서울시 금천구 시흥대로 399, 씨티렉스604호</td>\n",
       "      <td>02-805-9908</td>\n",
       "    </tr>\n",
       "    <tr>\n",
       "      <th>564</th>\n",
       "      <td>영등포점</td>\n",
       "      <td>서울 영등포구</td>\n",
       "      <td>서울시 영등포구 경인로 847</td>\n",
       "      <td>070-4159-8897</td>\n",
       "    </tr>\n",
       "    <tr>\n",
       "      <th>565</th>\n",
       "      <td>신촌점</td>\n",
       "      <td>서울 서대문구</td>\n",
       "      <td>서울시 서대문구 연세로 34</td>\n",
       "      <td>02-393-2004</td>\n",
       "    </tr>\n",
       "  </tbody>\n",
       "</table>\n",
       "<p>153 rows × 4 columns</p>\n",
       "</div>"
      ],
      "text/plain": [
       "        store  sido-gu                                  address          phone\n",
       "3       왕십리역점   서울 성동구  성동구 왕십리광장로 17 (행당동 168-151 ), 비트플렉스몰 3층   02-2200-1303\n",
       "4    홍대출판사거리점   서울 마포구                     서울시 마포구 독막로7길 40, 1층    02-332-3567\n",
       "7      수유사거리점   서울 강북구                서울시 강북구 도봉로 82길 11 (2~4층)  070-5226-1999\n",
       "9      전경련회관점  서울 영등포구       서울시 영등포구 여의도동 28-1 전경련신축회관 B109-11    02-786-3485\n",
       "12     신월사거리점   서울 양천구                            가로공원로 113, 1층   02-2606-5040\n",
       "..        ...      ...                                      ...            ...\n",
       "561     교통회관점   서울 송파구                 서울시 송파구 올림픽로 319 교통회관 1층   02-3431-1120\n",
       "562      마포역점   서울 마포구          서울시 마포구 도화동 555 한화오벨리스크B1 137~9    02-713-8788\n",
       "563       금천점   서울 금천구               서울시 금천구 시흥대로 399, 씨티렉스604호    02-805-9908\n",
       "564      영등포점  서울 영등포구                        서울시 영등포구 경인로 847   070-4159-8897\n",
       "565       신촌점  서울 서대문구                         서울시 서대문구 연세로 34     02-393-2004\n",
       "\n",
       "[153 rows x 4 columns]"
      ]
     },
     "execution_count": 105,
     "metadata": {},
     "output_type": "execute_result"
    }
   ],
   "source": [
    "# sido-gu 가 서울지역 추출하기 \n",
    "hollys_df_r = hollys_df[hollys_df['sido-gu'].str.contains('서울')]\n",
    "hollys_df_r"
   ]
  },
  {
   "cell_type": "code",
   "execution_count": 106,
   "metadata": {},
   "outputs": [],
   "source": [
    "# upyternotebook(또는 ipython)에서 경고 메시지를 무시하고 싶을 때 선언\n",
    "import warnings\n",
    "warnings.filterwarnings(action='ignore')"
   ]
  },
  {
   "cell_type": "code",
   "execution_count": 107,
   "metadata": {},
   "outputs": [
    {
     "data": {
      "text/html": [
       "<div>\n",
       "<style scoped>\n",
       "    .dataframe tbody tr th:only-of-type {\n",
       "        vertical-align: middle;\n",
       "    }\n",
       "\n",
       "    .dataframe tbody tr th {\n",
       "        vertical-align: top;\n",
       "    }\n",
       "\n",
       "    .dataframe thead th {\n",
       "        text-align: right;\n",
       "    }\n",
       "</style>\n",
       "<table border=\"1\" class=\"dataframe\">\n",
       "  <thead>\n",
       "    <tr style=\"text-align: right;\">\n",
       "      <th></th>\n",
       "      <th>store</th>\n",
       "      <th>sido-gu</th>\n",
       "      <th>address</th>\n",
       "      <th>phone</th>\n",
       "    </tr>\n",
       "  </thead>\n",
       "  <tbody>\n",
       "    <tr>\n",
       "      <th>3</th>\n",
       "      <td>왕십리역점</td>\n",
       "      <td>성동구</td>\n",
       "      <td>성동구 왕십리광장로 17 (행당동 168-151 ), 비트플렉스몰 3층</td>\n",
       "      <td>02-2200-1303</td>\n",
       "    </tr>\n",
       "    <tr>\n",
       "      <th>4</th>\n",
       "      <td>홍대출판사거리점</td>\n",
       "      <td>마포구</td>\n",
       "      <td>서울시 마포구 독막로7길 40, 1층</td>\n",
       "      <td>02-332-3567</td>\n",
       "    </tr>\n",
       "    <tr>\n",
       "      <th>7</th>\n",
       "      <td>수유사거리점</td>\n",
       "      <td>강북구</td>\n",
       "      <td>서울시 강북구 도봉로 82길 11 (2~4층)</td>\n",
       "      <td>070-5226-1999</td>\n",
       "    </tr>\n",
       "    <tr>\n",
       "      <th>9</th>\n",
       "      <td>전경련회관점</td>\n",
       "      <td>영등포구</td>\n",
       "      <td>서울시 영등포구 여의도동 28-1 전경련신축회관 B109-11</td>\n",
       "      <td>02-786-3485</td>\n",
       "    </tr>\n",
       "    <tr>\n",
       "      <th>12</th>\n",
       "      <td>신월사거리점</td>\n",
       "      <td>양천구</td>\n",
       "      <td>가로공원로 113, 1층</td>\n",
       "      <td>02-2606-5040</td>\n",
       "    </tr>\n",
       "    <tr>\n",
       "      <th>...</th>\n",
       "      <td>...</td>\n",
       "      <td>...</td>\n",
       "      <td>...</td>\n",
       "      <td>...</td>\n",
       "    </tr>\n",
       "    <tr>\n",
       "      <th>561</th>\n",
       "      <td>교통회관점</td>\n",
       "      <td>송파구</td>\n",
       "      <td>서울시 송파구 올림픽로 319 교통회관 1층</td>\n",
       "      <td>02-3431-1120</td>\n",
       "    </tr>\n",
       "    <tr>\n",
       "      <th>562</th>\n",
       "      <td>마포역점</td>\n",
       "      <td>마포구</td>\n",
       "      <td>서울시 마포구 도화동 555 한화오벨리스크B1 137~9</td>\n",
       "      <td>02-713-8788</td>\n",
       "    </tr>\n",
       "    <tr>\n",
       "      <th>563</th>\n",
       "      <td>금천점</td>\n",
       "      <td>금천구</td>\n",
       "      <td>서울시 금천구 시흥대로 399, 씨티렉스604호</td>\n",
       "      <td>02-805-9908</td>\n",
       "    </tr>\n",
       "    <tr>\n",
       "      <th>564</th>\n",
       "      <td>영등포점</td>\n",
       "      <td>영등포구</td>\n",
       "      <td>서울시 영등포구 경인로 847</td>\n",
       "      <td>070-4159-8897</td>\n",
       "    </tr>\n",
       "    <tr>\n",
       "      <th>565</th>\n",
       "      <td>신촌점</td>\n",
       "      <td>서대문구</td>\n",
       "      <td>서울시 서대문구 연세로 34</td>\n",
       "      <td>02-393-2004</td>\n",
       "    </tr>\n",
       "  </tbody>\n",
       "</table>\n",
       "<p>153 rows × 4 columns</p>\n",
       "</div>"
      ],
      "text/plain": [
       "        store sido-gu                                  address          phone\n",
       "3       왕십리역점     성동구  성동구 왕십리광장로 17 (행당동 168-151 ), 비트플렉스몰 3층   02-2200-1303\n",
       "4    홍대출판사거리점     마포구                     서울시 마포구 독막로7길 40, 1층    02-332-3567\n",
       "7      수유사거리점     강북구                서울시 강북구 도봉로 82길 11 (2~4층)  070-5226-1999\n",
       "9      전경련회관점    영등포구       서울시 영등포구 여의도동 28-1 전경련신축회관 B109-11    02-786-3485\n",
       "12     신월사거리점     양천구                            가로공원로 113, 1층   02-2606-5040\n",
       "..        ...     ...                                      ...            ...\n",
       "561     교통회관점     송파구                 서울시 송파구 올림픽로 319 교통회관 1층   02-3431-1120\n",
       "562      마포역점     마포구          서울시 마포구 도화동 555 한화오벨리스크B1 137~9    02-713-8788\n",
       "563       금천점     금천구               서울시 금천구 시흥대로 399, 씨티렉스604호    02-805-9908\n",
       "564      영등포점    영등포구                        서울시 영등포구 경인로 847   070-4159-8897\n",
       "565       신촌점    서대문구                         서울시 서대문구 연세로 34     02-393-2004\n",
       "\n",
       "[153 rows x 4 columns]"
      ]
     },
     "execution_count": 107,
     "metadata": {},
     "output_type": "execute_result"
    }
   ],
   "source": [
    "hollys_df_r['sido-gu'] = hollys_df_r['sido-gu'].str.split(' ').str[1]\n",
    "hollys_df_r"
   ]
  },
  {
   "cell_type": "code",
   "execution_count": 108,
   "metadata": {},
   "outputs": [
    {
     "data": {
      "text/html": [
       "<div>\n",
       "<style scoped>\n",
       "    .dataframe tbody tr th:only-of-type {\n",
       "        vertical-align: middle;\n",
       "    }\n",
       "\n",
       "    .dataframe tbody tr th {\n",
       "        vertical-align: top;\n",
       "    }\n",
       "\n",
       "    .dataframe thead th {\n",
       "        text-align: right;\n",
       "    }\n",
       "</style>\n",
       "<table border=\"1\" class=\"dataframe\">\n",
       "  <thead>\n",
       "    <tr style=\"text-align: right;\">\n",
       "      <th></th>\n",
       "      <th>store</th>\n",
       "      <th>군구</th>\n",
       "      <th>address</th>\n",
       "      <th>phone</th>\n",
       "    </tr>\n",
       "  </thead>\n",
       "  <tbody>\n",
       "    <tr>\n",
       "      <th>3</th>\n",
       "      <td>왕십리역점</td>\n",
       "      <td>성동구</td>\n",
       "      <td>성동구 왕십리광장로 17 (행당동 168-151 ), 비트플렉스몰 3층</td>\n",
       "      <td>02-2200-1303</td>\n",
       "    </tr>\n",
       "    <tr>\n",
       "      <th>4</th>\n",
       "      <td>홍대출판사거리점</td>\n",
       "      <td>마포구</td>\n",
       "      <td>서울시 마포구 독막로7길 40, 1층</td>\n",
       "      <td>02-332-3567</td>\n",
       "    </tr>\n",
       "    <tr>\n",
       "      <th>7</th>\n",
       "      <td>수유사거리점</td>\n",
       "      <td>강북구</td>\n",
       "      <td>서울시 강북구 도봉로 82길 11 (2~4층)</td>\n",
       "      <td>070-5226-1999</td>\n",
       "    </tr>\n",
       "    <tr>\n",
       "      <th>9</th>\n",
       "      <td>전경련회관점</td>\n",
       "      <td>영등포구</td>\n",
       "      <td>서울시 영등포구 여의도동 28-1 전경련신축회관 B109-11</td>\n",
       "      <td>02-786-3485</td>\n",
       "    </tr>\n",
       "    <tr>\n",
       "      <th>12</th>\n",
       "      <td>신월사거리점</td>\n",
       "      <td>양천구</td>\n",
       "      <td>가로공원로 113, 1층</td>\n",
       "      <td>02-2606-5040</td>\n",
       "    </tr>\n",
       "    <tr>\n",
       "      <th>...</th>\n",
       "      <td>...</td>\n",
       "      <td>...</td>\n",
       "      <td>...</td>\n",
       "      <td>...</td>\n",
       "    </tr>\n",
       "    <tr>\n",
       "      <th>561</th>\n",
       "      <td>교통회관점</td>\n",
       "      <td>송파구</td>\n",
       "      <td>서울시 송파구 올림픽로 319 교통회관 1층</td>\n",
       "      <td>02-3431-1120</td>\n",
       "    </tr>\n",
       "    <tr>\n",
       "      <th>562</th>\n",
       "      <td>마포역점</td>\n",
       "      <td>마포구</td>\n",
       "      <td>서울시 마포구 도화동 555 한화오벨리스크B1 137~9</td>\n",
       "      <td>02-713-8788</td>\n",
       "    </tr>\n",
       "    <tr>\n",
       "      <th>563</th>\n",
       "      <td>금천점</td>\n",
       "      <td>금천구</td>\n",
       "      <td>서울시 금천구 시흥대로 399, 씨티렉스604호</td>\n",
       "      <td>02-805-9908</td>\n",
       "    </tr>\n",
       "    <tr>\n",
       "      <th>564</th>\n",
       "      <td>영등포점</td>\n",
       "      <td>영등포구</td>\n",
       "      <td>서울시 영등포구 경인로 847</td>\n",
       "      <td>070-4159-8897</td>\n",
       "    </tr>\n",
       "    <tr>\n",
       "      <th>565</th>\n",
       "      <td>신촌점</td>\n",
       "      <td>서대문구</td>\n",
       "      <td>서울시 서대문구 연세로 34</td>\n",
       "      <td>02-393-2004</td>\n",
       "    </tr>\n",
       "  </tbody>\n",
       "</table>\n",
       "<p>153 rows × 4 columns</p>\n",
       "</div>"
      ],
      "text/plain": [
       "        store    군구                                  address          phone\n",
       "3       왕십리역점   성동구  성동구 왕십리광장로 17 (행당동 168-151 ), 비트플렉스몰 3층   02-2200-1303\n",
       "4    홍대출판사거리점   마포구                     서울시 마포구 독막로7길 40, 1층    02-332-3567\n",
       "7      수유사거리점   강북구                서울시 강북구 도봉로 82길 11 (2~4층)  070-5226-1999\n",
       "9      전경련회관점  영등포구       서울시 영등포구 여의도동 28-1 전경련신축회관 B109-11    02-786-3485\n",
       "12     신월사거리점   양천구                            가로공원로 113, 1층   02-2606-5040\n",
       "..        ...   ...                                      ...            ...\n",
       "561     교통회관점   송파구                 서울시 송파구 올림픽로 319 교통회관 1층   02-3431-1120\n",
       "562      마포역점   마포구          서울시 마포구 도화동 555 한화오벨리스크B1 137~9    02-713-8788\n",
       "563       금천점   금천구               서울시 금천구 시흥대로 399, 씨티렉스604호    02-805-9908\n",
       "564      영등포점  영등포구                        서울시 영등포구 경인로 847   070-4159-8897\n",
       "565       신촌점  서대문구                         서울시 서대문구 연세로 34     02-393-2004\n",
       "\n",
       "[153 rows x 4 columns]"
      ]
     },
     "execution_count": 108,
     "metadata": {},
     "output_type": "execute_result"
    }
   ],
   "source": [
    "hollys_df_r.rename(columns = {'sido-gu':'군구'},inplace=True)\n",
    "hollys_df_r"
   ]
  },
  {
   "cell_type": "code",
   "execution_count": 109,
   "metadata": {},
   "outputs": [],
   "source": [
    "hollys_df_r.to_csv(\"hollys.csv\", index = False)"
   ]
  },
  {
   "cell_type": "code",
   "execution_count": 110,
   "metadata": {},
   "outputs": [],
   "source": [
    "hollys_df_r.to_excel(\"hollys.xlsx\", index = False)"
   ]
  }
 ],
 "metadata": {
  "kernelspec": {
   "display_name": "Python 3 (ipykernel)",
   "language": "python",
   "name": "python3"
  },
  "language_info": {
   "codemirror_mode": {
    "name": "ipython",
    "version": 3
   },
   "file_extension": ".py",
   "mimetype": "text/x-python",
   "name": "python",
   "nbconvert_exporter": "python",
   "pygments_lexer": "ipython3",
   "version": "3.10.13"
  }
 },
 "nbformat": 4,
 "nbformat_minor": 4
}
