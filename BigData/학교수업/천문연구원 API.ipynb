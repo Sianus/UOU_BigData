{
 "cells": [
  {
   "cell_type": "code",
   "execution_count": 3,
   "id": "c0637f69-e89a-4644-8ad3-4d2480d63a8c",
   "metadata": {
    "tags": []
   },
   "outputs": [],
   "source": [
    "import urllib.request as ul\n",
    "import xmltodict\n",
    "import json\n",
    "import sys\n",
    "import io\n",
    "from urllib.request import urlopen\n",
    "from urllib.request import Request \n",
    "from urllib.parse import urlencode, quote_plus\n",
    "from datetime import date, timedelta\n",
    "import pandas as pd\n",
    "import numpy as np\n",
    "import matplotlib.pyplot as plt\n",
    "import seaborn as sns\n",
    "import warnings\n",
    "warnings.filterwarnings('ignore')"
   ]
  },
  {
   "cell_type": "code",
   "execution_count": 14,
   "id": "b005c137-69ae-44e1-8180-17938dde8e8f",
   "metadata": {
    "tags": []
   },
   "outputs": [
    {
     "data": {
      "text/plain": [
       "('0633', '1742')"
      ]
     },
     "execution_count": 14,
     "metadata": {},
     "output_type": "execute_result"
    }
   ],
   "source": [
    "url = 'http://apis.data.go.kr/B090041/openapi/service/RiseSetInfoService/getLCRiseSetInfo?longitude='+str(129.30933389)+'&latitude='+str(35.5396224)+'&locdate='+str(20231020)+'&dnYn=Y&ServiceKey=API키입력'\n",
    "requestd = Request(url)\n",
    "requestd.get_method = lambda: 'GET'\n",
    "response_body = urlopen(requestd).read()\n",
    "resp = xmltodict.parse(response_body)\n",
    "resp_dic = json.loads(json.dumps(resp))\n",
    "sunrise = resp_dic['response']['body']['items']['item']['sunrise']\n",
    "sunset = resp_dic['response']['body']['items']['item']['sunset']\n",
    "sunrise, sunset"
   ]
  },
  {
   "cell_type": "code",
   "execution_count": 13,
   "id": "0f4d59e8-89e3-4cac-8bec-82f637825eaf",
   "metadata": {
    "tags": []
   },
   "outputs": [
    {
     "data": {
      "text/plain": [
       "(6, 17)"
      ]
     },
     "execution_count": 13,
     "metadata": {},
     "output_type": "execute_result"
    }
   ],
   "source": [
    "sunrise_h = int(sunrise)//100\n",
    "sunset_h = int(sunset)//100\n",
    "sunrise_h, sunset_h"
   ]
  },
  {
   "cell_type": "code",
   "execution_count": null,
   "id": "5628a01d-285d-4cdc-b38b-29dcdcd5e179",
   "metadata": {},
   "outputs": [],
   "source": []
  }
 ],
 "metadata": {
  "kernelspec": {
   "display_name": "Python 3 (ipykernel)",
   "language": "python",
   "name": "python3"
  },
  "language_info": {
   "codemirror_mode": {
    "name": "ipython",
    "version": 3
   },
   "file_extension": ".py",
   "mimetype": "text/x-python",
   "name": "python",
   "nbconvert_exporter": "python",
   "pygments_lexer": "ipython3",
   "version": "3.10.13"
  }
 },
 "nbformat": 4,
 "nbformat_minor": 5
}
