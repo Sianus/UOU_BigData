{
 "cells": [
  {
   "cell_type": "code",
   "execution_count": null,
   "metadata": {
    "tags": []
   },
   "outputs": [],
   "source": [
    "!pip install folium\n",
    "!pip install openpyxl"
   ]
  },
  {
   "cell_type": "code",
   "execution_count": null,
   "metadata": {
    "tags": []
   },
   "outputs": [],
   "source": [
    "import pandas as pd\n",
    "import matplotlib.pyplot as plt\n",
    "import folium\n",
    "import matplotlib.font_manager as fm\n",
    "font_name = fm.FontProperties(fname=\"c:/Windows/Fonts/malgun.ttf\").get_name()\n",
    "plt.rc('font', family=font_name)"
   ]
  },
  {
   "cell_type": "code",
   "execution_count": null,
   "metadata": {
    "tags": []
   },
   "outputs": [],
   "source": [
    "df = pd.read_excel('울산광역시 착한가격업소 현황.xlsx')\n",
    "df"
   ]
  },
  {
   "cell_type": "code",
   "execution_count": null,
   "metadata": {
    "tags": []
   },
   "outputs": [],
   "source": [
    "df = df.filter(['시군','업종','업소명','연락처','주소','위도', '경도'])\n",
    "df"
   ]
  },
  {
   "cell_type": "markdown",
   "metadata": {},
   "source": [
    "# The default tiles are set to OpenStreetMap, but Stamen Terrain, Stamen Toner, Mapbox Bright, stamenwatercolor, cartodbpositron, cartodbdark_matter and Mapbox Control Room, and many others tiles are built in."
   ]
  },
  {
   "cell_type": "code",
   "execution_count": null,
   "metadata": {
    "tags": []
   },
   "outputs": [],
   "source": [
    "map_ulsan = folium.Map(location=[35.542817, 129.323622], zoom_start=12, tiles='OpenStreetMap')\n",
    "map_ulsan"
   ]
  },
  {
   "cell_type": "markdown",
   "metadata": {},
   "source": [
    "### icon\n",
    "  'home' , 'star' , 'flag' , 'glass' , 'bookmark' , 'bell' , 'info-sign' , 'cloud' , etc\n",
    "### color\n",
    " 'beige', 'black', 'blue', 'cadetblue', 'darkblue', 'darkgreen', 'darkpurple', 'darkred', 'gray', 'green', 'lightblue', 'lightgray', 'lightgreen', 'lightred', 'orange', 'pink', 'purple', 'red', 'white'"
   ]
  },
  {
   "cell_type": "code",
   "execution_count": null,
   "metadata": {
    "tags": []
   },
   "outputs": [],
   "source": [
    "marker = folium.Marker([35.5396224,129.3093389], popup='울산광역시청', tooltip='환영합니다', icon=folium.Icon(icon='home', color='red'))\n",
    "marker.add_to(map_ulsan)\n",
    "map_ulsan.save('울산_착한가격업소_현황.html')\n",
    "map_ulsan"
   ]
  },
  {
   "cell_type": "code",
   "execution_count": null,
   "metadata": {
    "tags": []
   },
   "outputs": [],
   "source": [
    "contents = folium.Popup('울산광역시청', max_width=300)\n",
    "marker = folium.Marker([35.5396224,129.3093389], popup=contents, tooltip='환영합니다', icon=folium.Icon(icon='home', color='red'))\n",
    "marker.add_to(map_ulsan)\n",
    "map_ulsan.save('울산_착한가격업소_현황.html')\n",
    "map_ulsan"
   ]
  },
  {
   "cell_type": "code",
   "execution_count": null,
   "metadata": {
    "tags": []
   },
   "outputs": [],
   "source": [
    "for i in df.index:\n",
    "    lat = df.loc[i, '위도']\n",
    "    lng = df.loc[i, '경도']\n",
    "    contents = folium.Popup('<b>'+df.loc[i, '업소명']+'</b>'+'<br>'+df.loc[i, '주소']+'<br>'+str(df.loc[i, '연락처']), max_width=300)\n",
    "    marker = folium.Marker([lat, lng], popup=contents, icon=folium.Icon(icon='home', color='purple'))\n",
    "    marker.add_to(map_ulsan)\n",
    "\n",
    "map_ulsan.save('울산_착한가격업소_현황.html')\n",
    "map_ulsan"
   ]
  },
  {
   "cell_type": "code",
   "execution_count": null,
   "metadata": {
    "tags": []
   },
   "outputs": [],
   "source": [
    "type = df['업종'].value_counts().sort_values(ascending=False)\n",
    "type"
   ]
  },
  {
   "cell_type": "code",
   "execution_count": null,
   "metadata": {
    "tags": []
   },
   "outputs": [],
   "source": [
    "for i in df.index:\n",
    "    lat = df.loc[i, '위도']\n",
    "    lng = df.loc[i, '경도']\n",
    "    contents = folium.Popup('<b>'+df.loc[i, '업소명']+'</b>'+'<br>'+df.loc[i, '주소']+'<br>'+str(df.loc[i, '연락처']), max_width=300)\n",
    "    \n",
    "    mark_type =df.loc[i, '업종']\n",
    "    \n",
    "    if mark_type == '한식_일반':\n",
    "        marker = folium.Marker([lat, lng], popup=contents, icon=folium.Icon(icon='home', color='purple'))\n",
    "    elif mark_type == '이미용업':\n",
    "        marker = folium.Marker([lat, lng], popup=contents, icon=folium.Icon(icon='glass', color='orange'))\n",
    "    elif mark_type == '한식_육류':\n",
    "        marker = folium.Marker([lat, lng], popup=contents, icon=folium.Icon(icon='star', color='red'))\n",
    "    elif mark_type == '중식':\n",
    "        marker = folium.Marker([lat, lng], popup=contents, icon=folium.Icon(icon='flag', color='green'))\n",
    "    elif mark_type == '세탁업':\n",
    "        marker = folium.Marker([lat, lng], popup=contents, icon=folium.Icon(icon='bell', color='black'))\n",
    "    else :\n",
    "        marker = folium.Marker([lat, lng], popup=contents, icon=folium.Icon(icon='bookmark', color='blue'))\n",
    "\n",
    "    marker.add_to(map_ulsan)\n",
    "\n",
    "map_ulsan.save('울산_착한가격업소_현황.html')\n",
    "map_ulsan"
   ]
  },
  {
   "cell_type": "markdown",
   "metadata": {},
   "source": [
    "‘red’, ‘blue’, ‘green’, ‘purple’, ‘orange’, ‘darkred’, ’lightred’, ‘beige’, ‘darkblue’, ‘darkgreen’, ‘cadetblue’, ‘darkpurple’, ‘white’, ‘pink’, ‘lightblue’, ‘lightgreen’, ‘gray’, ‘black’, ‘lightgray’"
   ]
  },
  {
   "cell_type": "code",
   "execution_count": null,
   "metadata": {
    "tags": []
   },
   "outputs": [],
   "source": [
    "folium.CircleMarker([35.522062,129.2403183], radius=100, color='darkred', fill_color='red', popup='울주군').add_to(map_ulsan)\n",
    "folium.CircleMarker([35.5438157,129.3278901], radius=50, color='darkblue', fill_color='cadetblue', popup='남구').add_to(map_ulsan)\n",
    "map_ulsan"
   ]
  },
  {
   "cell_type": "code",
   "execution_count": null,
   "metadata": {},
   "outputs": [],
   "source": []
  }
 ],
 "metadata": {
  "kernelspec": {
   "display_name": "Python 3 (ipykernel)",
   "language": "python",
   "name": "python3"
  },
  "language_info": {
   "codemirror_mode": {
    "name": "ipython",
    "version": 3
   },
   "file_extension": ".py",
   "mimetype": "text/x-python",
   "name": "python",
   "nbconvert_exporter": "python",
   "pygments_lexer": "ipython3",
   "version": "3.10.12"
  }
 },
 "nbformat": 4,
 "nbformat_minor": 4
}
