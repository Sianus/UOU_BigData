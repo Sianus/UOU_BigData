{
 "cells": [
  {
   "cell_type": "markdown",
   "metadata": {},
   "source": [
    "## 울산 당근마켓 "
   ]
  },
  {
   "cell_type": "code",
   "execution_count": 1,
   "metadata": {
    "tags": []
   },
   "outputs": [],
   "source": [
    "import requests\n",
    "# 해당 url 의 웹페이지 요청하고 응답 페이지를 리턴\n",
    "res = requests.get('https://www.daangn.com/search/%EC%9A%B8%EC%82%B0')\n",
    "\n",
    "rawhtml = res.content #웹페이지를 raw data 형태로 표현\n",
    "html = res.text       #웹페이지를 문자열 형태로 변환하여  표현\n",
    "header = res.headers  #헤더 정보 표시 \n",
    "status = res.status_code   #응답 코드 표시"
   ]
  },
  {
   "cell_type": "code",
   "execution_count": 2,
   "metadata": {},
   "outputs": [],
   "source": [
    "#rawhtml"
   ]
  },
  {
   "cell_type": "code",
   "execution_count": 3,
   "metadata": {},
   "outputs": [],
   "source": [
    "#html"
   ]
  },
  {
   "cell_type": "code",
   "execution_count": 2,
   "metadata": {
    "tags": []
   },
   "outputs": [
    {
     "data": {
      "text/plain": [
       "{'Date': 'Mon, 20 Nov 2023 00:38:41 GMT', 'Content-Type': 'text/html; charset=utf-8', 'Content-Length': '126034', 'Connection': 'keep-alive', 'x-frame-options': 'SAMEORIGIN', 'x-xss-protection': '0', 'x-content-type-options': 'nosniff', 'x-download-options': 'noopen', 'x-permitted-cross-domain-policies': 'none', 'referrer-policy': 'strict-origin-when-cross-origin', 'link': '<https://d1unjqcospf8gs.cloudfront.net/assets/home/search/index-63bb8724b79a790303e742f8af07d830b31ddc8a90725858e9647f8a3726f63b.css>; rel=preload; as=style; nopush,<https://d1unjqcospf8gs.cloudfront.net/assets/home/search/index-28ef439066f35ad4f7fd4c534de9ca34a441a4d9d006e25be749b44a56a67410.js>; rel=preload; as=script; nopush', 'vary': 'Accept,Accept-Encoding', 'content-encoding': 'gzip', 'etag': 'W/\"c6de894cc6aa9c063da60ff3f1aa4ff8\"', 'cache-control': 'max-age=0, private, must-revalidate', 'set-cookie': '_hoian-webapp_session=MxwaIAR5p8WhXKbmG3xbSjiDFF5vIhNeh2B8Lgno7KC%2FWynOLsmp6dYzc3z3woEANwxjIxGl%2FfjHsMYDTcXTAh7Ymi9D9KcHMcOMUqhqhDlzwo6JgwvIBooEChBCWfmVnM8C2jbGmBbKb5pGxhkvdSfylFjDurFbRAlNZ0V%2Bc4xnZ5pXiSjVaR4d2616hCXbM%2F9vRsO3J%2B9iVX1XuQ84cpG8kPTlCYeHCpY3Ub17eV%2FtKahVRQdaGZNUskEMNyhalja3p6coQuwjEF%2FDZ%2BL75R%2F3g%2Bq%2BgjJktmUNWJA%3D--O%2Fp1zFUu5wXrOu1t--yikJ6pzefuNlxngGPzYqdA%3D%3D; path=/; HttpOnly; SameSite=Lax', 'x-request-id': 'a01339de-c955-4e1f-9759-59cc7733a5a4', 'x-runtime': '0.184635', 'strict-transport-security': 'max-age=31536000; includeSubDomains', 'access-control-allow-origin': '*', 'access-control-allow-methods': 'GET,POST,PUT,DELETE,OPTIONS'}"
      ]
     },
     "execution_count": 2,
     "metadata": {},
     "output_type": "execute_result"
    }
   ],
   "source": [
    "header"
   ]
  },
  {
   "cell_type": "code",
   "execution_count": 3,
   "metadata": {
    "tags": []
   },
   "outputs": [
    {
     "data": {
      "text/plain": [
       "200"
      ]
     },
     "execution_count": 3,
     "metadata": {},
     "output_type": "execute_result"
    }
   ],
   "source": [
    "status"
   ]
  },
  {
   "cell_type": "code",
   "execution_count": 4,
   "metadata": {
    "tags": []
   },
   "outputs": [],
   "source": [
    "from bs4 import BeautifulSoup\n",
    "soup = BeautifulSoup(html, 'html.parser')  #BeautifulSoup 객체를 반환"
   ]
  },
  {
   "cell_type": "code",
   "execution_count": 7,
   "metadata": {},
   "outputs": [],
   "source": [
    "#soup"
   ]
  },
  {
   "cell_type": "code",
   "execution_count": 5,
   "metadata": {
    "tags": []
   },
   "outputs": [
    {
     "data": {
      "text/plain": [
       "str"
      ]
     },
     "execution_count": 5,
     "metadata": {},
     "output_type": "execute_result"
    }
   ],
   "source": [
    "type(html)"
   ]
  },
  {
   "cell_type": "code",
   "execution_count": 6,
   "metadata": {
    "tags": []
   },
   "outputs": [
    {
     "data": {
      "text/plain": [
       "bs4.BeautifulSoup"
      ]
     },
     "execution_count": 6,
     "metadata": {},
     "output_type": "execute_result"
    }
   ],
   "source": [
    "type(soup)"
   ]
  },
  {
   "cell_type": "code",
   "execution_count": 7,
   "metadata": {
    "tags": []
   },
   "outputs": [
    {
     "data": {
      "text/plain": [
       "<title>울산광역시 인기 중고 | 당신 근처의 당근</title>"
      ]
     },
     "execution_count": 7,
     "metadata": {},
     "output_type": "execute_result"
    }
   ],
   "source": [
    "soup.title"
   ]
  },
  {
   "cell_type": "code",
   "execution_count": 11,
   "metadata": {},
   "outputs": [],
   "source": [
    "#soup.div"
   ]
  },
  {
   "cell_type": "code",
   "execution_count": 8,
   "metadata": {
    "tags": []
   },
   "outputs": [
    {
     "data": {
      "text/plain": [
       "<ul class=\"_1knjz49l _1s38h9c5\"><li class=\"_1knjz49n\"><a class=\"_1knjz49o _1s38h9c4 _1s38h9c2 undefined\" href=\"https://www.daangn.com/fleamarket/\">중고거래</a></li><li class=\"_1knjz49n\"><a class=\"_1knjz49o _1s38h9c4 _1s38h9c2 undefined\" href=\"/kr/nearby-stores/\">동네업체</a></li><li class=\"_1knjz49n\"><a class=\"_1knjz49o _1s38h9c4 _1s38h9c2 undefined\" href=\"/kr/jobs/\">알바</a></li><li class=\"_1knjz49n\"><a class=\"_1knjz49o _1s38h9c4 _1s38h9c2 undefined\" href=\"/kr/realty/\">부동산 직거래</a></li><li class=\"_1knjz49n\"><a class=\"_1knjz49o _1s38h9c4 _1s38h9c2 undefined\" href=\"/kr/car/\">중고차 직거래</a></li></ul>"
      ]
     },
     "execution_count": 8,
     "metadata": {},
     "output_type": "execute_result"
    }
   ],
   "source": [
    "soup.ul"
   ]
  },
  {
   "cell_type": "code",
   "execution_count": 9,
   "metadata": {
    "tags": []
   },
   "outputs": [
    {
     "data": {
      "text/plain": [
       "<li class=\"_1knjz49n\"><a class=\"_1knjz49o _1s38h9c4 _1s38h9c2 undefined\" href=\"https://www.daangn.com/fleamarket/\">중고거래</a></li>"
      ]
     },
     "execution_count": 9,
     "metadata": {},
     "output_type": "execute_result"
    }
   ],
   "source": [
    "soup.li"
   ]
  },
  {
   "cell_type": "code",
   "execution_count": 10,
   "metadata": {
    "tags": []
   },
   "outputs": [
    {
     "data": {
      "text/plain": [
       "[<ul class=\"_1knjz49l _1s38h9c5\"><li class=\"_1knjz49n\"><a class=\"_1knjz49o _1s38h9c4 _1s38h9c2 undefined\" href=\"https://www.daangn.com/fleamarket/\">중고거래</a></li><li class=\"_1knjz49n\"><a class=\"_1knjz49o _1s38h9c4 _1s38h9c2 undefined\" href=\"/kr/nearby-stores/\">동네업체</a></li><li class=\"_1knjz49n\"><a class=\"_1knjz49o _1s38h9c4 _1s38h9c2 undefined\" href=\"/kr/jobs/\">알바</a></li><li class=\"_1knjz49n\"><a class=\"_1knjz49o _1s38h9c4 _1s38h9c2 undefined\" href=\"/kr/realty/\">부동산 직거래</a></li><li class=\"_1knjz49n\"><a class=\"_1knjz49o _1s38h9c4 _1s38h9c2 undefined\" href=\"/kr/car/\">중고차 직거래</a></li></ul>,\n",
       " <ul class=\"_1trxeqsa\"><li class=\"_1trxeqsq\"><a class=\"undefined _1trxeqsp\" href=\"https://www.daangn.com/fleamarket/\" target=\"_blank\">중고거래</a></li><li class=\"_1trxeqsq\"><a class=\"undefined _1trxeqsp\" href=\"https://www.daangn.com/kr/nearby-stores/\" target=\"_blank\">동네업체</a></li><li class=\"_1trxeqsq\"><a class=\"undefined _1trxeqsp\" href=\"https://www.daangn.com/kr/jobs/\" target=\"_blank\">당근알바</a></li><li class=\"_1trxeqsq\"><a class=\"undefined _1trxeqsp\" href=\"https://www.daangn.com/kr/realty/\" target=\"_blank\">부동산 직거래</a></li><li class=\"_1trxeqsq\"><a class=\"undefined _1trxeqsp\" href=\"https://www.daangn.com/kr/car/\" target=\"_blank\">중고차 직거래</a></li></ul>,\n",
       " <ul class=\"_1trxeqsa\"><li class=\"_1trxeqsq\"><a class=\"undefined _1trxeqsp\" href=\"https://business.daangn.com\" target=\"_blank\">당근비즈니스</a></li><li class=\"_1trxeqsq\"><a class=\"undefined _1trxeqsp\" href=\"https://chat.daangn.com/onboarding\" target=\"_blank\">채팅하기</a></li></ul>,\n",
       " <ul class=\"_1trxeqsa\"><li class=\"_1trxeqsq\"><a class=\"undefined _1trxeqsp\" href=\"https://cs.kr.karrotmarket.com/wv/faqs\" target=\"_blank\">자주 묻는 질문</a></li><li class=\"_1trxeqsq\"><a class=\"undefined _1trxeqsp\" href=\"https://about.daangn.com\" target=\"_blank\">회사 소개</a></li><li class=\"_1trxeqsq\"><a class=\"undefined _1trxeqsp\" href=\"https://about.daangn.com/jobs\" target=\"_blank\">인재 채용</a></li></ul>]"
      ]
     },
     "execution_count": 10,
     "metadata": {},
     "output_type": "execute_result"
    }
   ],
   "source": [
    "soup.find_all(\"ul\")"
   ]
  },
  {
   "cell_type": "code",
   "execution_count": 11,
   "metadata": {
    "tags": []
   },
   "outputs": [
    {
     "data": {
      "text/plain": [
       "[<li class=\"_1knjz49n\"><a class=\"_1knjz49o _1s38h9c4 _1s38h9c2 undefined\" href=\"https://www.daangn.com/fleamarket/\">중고거래</a></li>,\n",
       " <li class=\"_1knjz49n\"><a class=\"_1knjz49o _1s38h9c4 _1s38h9c2 undefined\" href=\"/kr/nearby-stores/\">동네업체</a></li>,\n",
       " <li class=\"_1knjz49n\"><a class=\"_1knjz49o _1s38h9c4 _1s38h9c2 undefined\" href=\"/kr/jobs/\">알바</a></li>,\n",
       " <li class=\"_1knjz49n\"><a class=\"_1knjz49o _1s38h9c4 _1s38h9c2 undefined\" href=\"/kr/realty/\">부동산 직거래</a></li>,\n",
       " <li class=\"_1knjz49n\"><a class=\"_1knjz49o _1s38h9c4 _1s38h9c2 undefined\" href=\"/kr/car/\">중고차 직거래</a></li>,\n",
       " <li class=\"_1trxeqsq\"><a class=\"undefined _1trxeqsp\" href=\"https://www.daangn.com/fleamarket/\" target=\"_blank\">중고거래</a></li>,\n",
       " <li class=\"_1trxeqsq\"><a class=\"undefined _1trxeqsp\" href=\"https://www.daangn.com/kr/nearby-stores/\" target=\"_blank\">동네업체</a></li>,\n",
       " <li class=\"_1trxeqsq\"><a class=\"undefined _1trxeqsp\" href=\"https://www.daangn.com/kr/jobs/\" target=\"_blank\">당근알바</a></li>,\n",
       " <li class=\"_1trxeqsq\"><a class=\"undefined _1trxeqsp\" href=\"https://www.daangn.com/kr/realty/\" target=\"_blank\">부동산 직거래</a></li>,\n",
       " <li class=\"_1trxeqsq\"><a class=\"undefined _1trxeqsp\" href=\"https://www.daangn.com/kr/car/\" target=\"_blank\">중고차 직거래</a></li>,\n",
       " <li class=\"_1trxeqsq\"><a class=\"undefined _1trxeqsp\" href=\"https://business.daangn.com\" target=\"_blank\">당근비즈니스</a></li>,\n",
       " <li class=\"_1trxeqsq\"><a class=\"undefined _1trxeqsp\" href=\"https://chat.daangn.com/onboarding\" target=\"_blank\">채팅하기</a></li>,\n",
       " <li class=\"_1trxeqsq\"><a class=\"undefined _1trxeqsp\" href=\"https://cs.kr.karrotmarket.com/wv/faqs\" target=\"_blank\">자주 묻는 질문</a></li>,\n",
       " <li class=\"_1trxeqsq\"><a class=\"undefined _1trxeqsp\" href=\"https://about.daangn.com\" target=\"_blank\">회사 소개</a></li>,\n",
       " <li class=\"_1trxeqsq\"><a class=\"undefined _1trxeqsp\" href=\"https://about.daangn.com/jobs\" target=\"_blank\">인재 채용</a></li>]"
      ]
     },
     "execution_count": 11,
     "metadata": {},
     "output_type": "execute_result"
    }
   ],
   "source": [
    "soup.find_all(\"li\")"
   ]
  },
  {
   "cell_type": "code",
   "execution_count": 16,
   "metadata": {},
   "outputs": [],
   "source": [
    "# soup.find_all(\"li\", attrs={\"class\": \"_1trxeqsq\"})"
   ]
  },
  {
   "cell_type": "code",
   "execution_count": 12,
   "metadata": {
    "tags": []
   },
   "outputs": [
    {
     "name": "stdout",
     "output_type": "stream",
     "text": [
      "중고거래\n",
      "동네업체\n",
      "알바\n",
      "부동산 직거래\n",
      "중고차 직거래\n",
      "중고거래\n",
      "동네업체\n",
      "당근알바\n",
      "부동산 직거래\n",
      "중고차 직거래\n",
      "당근비즈니스\n",
      "채팅하기\n",
      "자주 묻는 질문\n",
      "회사 소개\n",
      "인재 채용\n"
     ]
    }
   ],
   "source": [
    "titles = soup.find_all(\"li\")\n",
    "for title in titles:\n",
    "    dtitle = title.text \n",
    "    print(dtitle)"
   ]
  },
  {
   "attachments": {
    "2bfe3dda-d2e2-4be1-92b2-c0bbae1d4f48.png": {
     "image/png": "[encoded data removed]"
    }
   },
   "cell_type": "markdown",
   "metadata": {},
   "source": [
    "![image.png](attachment:2bfe3dda-d2e2-4be1-92b2-c0bbae1d4f48.png)"
   ]
  },
  {
   "cell_type": "code",
   "execution_count": 40,
   "metadata": {},
   "outputs": [
    {
     "name": "stdout",
     "output_type": "stream",
     "text": [
      "중고거래 https://www.daangn.com\n",
      "동네가게 https://www.daangn.com/kr/nearby-stores/\n",
      "알바 https://www.daangn.com/kr/jobs/\n",
      "부동산 직거래 https://www.daangn.com/kr/realty/\n",
      "중고차 직거래 https://www.daangn.com/kr/car/\n",
      "중고거래 https://www.daangn.com/hot_articles\n",
      "동네가게 https://www.daangn.com/kr/nearby-stores\n",
      "당근알바 https://www.daangn.com/kr/jobs\n",
      "부동산 직거래 https://www.daangn.com/kr/realty\n",
      "중고차 직거래 https://www.daangn.com/kr/car\n",
      "당근비즈니스 https://business.daangn.com\n",
      "채팅하기 https://chat.daangn.com/onboarding\n",
      "자주 묻는 질문 https://cs.kr.karrotmarket.com/wv/faqs\n",
      "회사 소개 https://about.daangn.com\n",
      "인재 채용 https://about.daangn.com/jobs\n"
     ]
    }
   ],
   "source": [
    "titles = soup.find_all(\"li\")\n",
    "for title in titles:\n",
    "    dtitle = title.text     # dtitle = title.a.get_text() \n",
    "    link = title.a['href']\n",
    "    a = link[:7] \n",
    "    if a == \"https:/\":\n",
    "        print(dtitle, link)\n",
    "    else:\n",
    "        print(dtitle, \"https://www.daangn.com\"+link)"
   ]
  },
  {
   "cell_type": "code",
   "execution_count": 14,
   "metadata": {
    "tags": []
   },
   "outputs": [
    {
     "name": "stdout",
     "output_type": "stream",
     "text": [
      "중고거래\n",
      "동네업체\n",
      "알바\n",
      "부동산 직거래\n",
      "중고차 직거래\n"
     ]
    }
   ],
   "source": [
    "titles = soup.select('div>div>div>nav>ul>li>a') \n",
    "\n",
    "for title in titles:\n",
    "    dtitle = title.text\n",
    "    print(dtitle)"
   ]
  },
  {
   "cell_type": "code",
   "execution_count": 15,
   "metadata": {
    "tags": []
   },
   "outputs": [
    {
     "name": "stdout",
     "output_type": "stream",
     "text": [
      "중고거래 https://www.daangn.com/fleamarket/\n",
      "동네업체 https://www.daangn.com/kr/nearby-stores/\n",
      "알바 https://www.daangn.com/kr/jobs/\n",
      "부동산 직거래 https://www.daangn.com/kr/realty/\n",
      "중고차 직거래 https://www.daangn.com/kr/car/\n"
     ]
    }
   ],
   "source": [
    "titles = soup.select('div>div>div>nav>ul>li>a')\n",
    "\n",
    "for title in titles:\n",
    "    dtitle = title.text\n",
    "    link = title.get('href')  \n",
    "    \n",
    "    a = link[:7] \n",
    "    if a == \"https:/\":\n",
    "        print(dtitle, link)\n",
    "    else:\n",
    "        print(dtitle, \"https://www.daangn.com\"+link)"
   ]
  },
  {
   "cell_type": "code",
   "execution_count": 16,
   "metadata": {
    "tags": []
   },
   "outputs": [
    {
     "name": "stdout",
     "output_type": "stream",
     "text": [
      "중고거래\n",
      "동네업체\n",
      "알바\n",
      "부동산 직거래\n",
      "중고차 직거래\n"
     ]
    }
   ],
   "source": [
    "titles1 = soup.select('div>div>div>nav>ul>li')\n",
    "\n",
    "for title1 in titles1:\n",
    "    dtitle1 = title1.text\n",
    "    print(dtitle1)"
   ]
  },
  {
   "cell_type": "code",
   "execution_count": 17,
   "metadata": {
    "tags": []
   },
   "outputs": [
    {
     "name": "stdout",
     "output_type": "stream",
     "text": [
      "중고거래 https://www.daangn.com/fleamarket/\n",
      "동네업체 https://www.daangn.com/kr/nearby-stores/\n",
      "알바 https://www.daangn.com/kr/jobs/\n",
      "부동산 직거래 https://www.daangn.com/kr/realty/\n",
      "중고차 직거래 https://www.daangn.com/kr/car/\n"
     ]
    }
   ],
   "source": [
    "titles1 = soup.select('div>div>div>nav>ul>li')\n",
    "\n",
    "for title1 in titles1:\n",
    "    dtitle1 = title1.text\n",
    "    link1 = title1.a['href']  \n",
    "    \n",
    "    a = link1[:7] \n",
    "    if a == \"https:/\":\n",
    "        print(dtitle1, link1)\n",
    "    else:\n",
    "        print(dtitle1, \"https://www.daangn.com\"+link1)"
   ]
  },
  {
   "cell_type": "markdown",
   "metadata": {},
   "source": [
    "### div.card-photo : 물품명 가져오기"
   ]
  },
  {
   "cell_type": "code",
   "execution_count": 19,
   "metadata": {},
   "outputs": [],
   "source": [
    "# soup.select('p') # select('태그명')\n",
    "# soup.select('.article-info')  #select('.클래스명')\n",
    "# soup.select('div.article-info') #select('태그명.클래스명’)\n",
    "# soup.select('#result') #select('#아이디명')"
   ]
  },
  {
   "cell_type": "code",
   "execution_count": 20,
   "metadata": {},
   "outputs": [],
   "source": [
    "#soup.select('section > div > div > article > a > div.card-photo > img')"
   ]
  },
  {
   "attachments": {
    "b8b3066e-ac5c-4329-b9e8-1abfa95ed92a.png": {
     "image/png": "[encoded data removed]"
    }
   },
   "cell_type": "markdown",
   "metadata": {},
   "source": [
    "![image.png](attachment:b8b3066e-ac5c-4329-b9e8-1abfa95ed92a.png)"
   ]
  },
  {
   "cell_type": "code",
   "execution_count": 21,
   "metadata": {},
   "outputs": [],
   "source": [
    "#soup.select('div.card-photo')"
   ]
  },
  {
   "cell_type": "code",
   "execution_count": 18,
   "metadata": {
    "tags": []
   },
   "outputs": [
    {
     "name": "stdout",
     "output_type": "stream",
     "text": [
      "샤넬가방.오래된가방.\n",
      "경운기팔아요\n",
      "엘파마 로사 mtb 판매합니다\n",
      "맘스터치 후라이드 싸이순살\n",
      "제가 안먹어서 급처분해요\n",
      "깔끔한 에어팟 맥스\n",
      "호주 어그 클리어부츠 새상품\n",
      "갤럭시워치 가죽 핀 스트랩 4색상\n",
      "알루미늄 육수통\n",
      "에어팟 프로 2 풀박스\n",
      "(짜가,새것)비비안웨스트우드 진주 목걸이\n",
      "화목난로 20만원에 팔아요\n",
      "음반 cd앨범\n",
      "급처분 싸게 팔아요..\n",
      "챔핑용장작\n",
      "바지 팔아요\n",
      "하늘마\n",
      "버버리 퀼팅 자켓 팝니다\n",
      "타요붕붕카\n",
      "카이저전문가용드라이기와 유닉스볼륨기\n",
      "아디다스여성골프백\n",
      "(완전새상품)락피쉬 클라우디 플랫폼 슬리퍼 블랙(250)\n",
      "라면  포트\n",
      "뉴발란스 아동패딩\n",
      "통기타\n",
      "뉴발란스 530 (235)\n",
      "전면책장\n",
      "인테리어 카페트\n",
      "롤호스 판매\n",
      "전기장판 더블사이즈\n",
      "마켓비 EZBO HERO 스트링 벽선반 시스템 수납함 책상  판매합니다\n",
      "갤럭시워치 싱글투어 스트랩 4색상\n",
      "두꺼운 인조 잔디 팝니다.\n",
      "수면잠옷세트 (1회착용세탁완료.)\n",
      "목걸이세트.시계.장갑\n",
      "바퀴 달린 스텐 바구니  처분\n",
      "Z플립3 256기가 블랙 팝니다.\n",
      "513L 냉장고\n",
      "알로카시아 핑크드래곤,밤비노\n",
      "에몬스 책장\n",
      "갤럭시워치 실리콘 밴드 15색상\n",
      "점보도시락 팔아요\n",
      "겨울패딩\n",
      "아이폰 13미니 128 90%\n",
      "파리게이츠 패딩\n",
      "나이키 아디다스 양말 팔아요!!\n",
      "골프 스윙연습기\n",
      "린나이 가스레인지 infa2020J\n",
      "엘파마 벤토르 V6100 시마노 데오레 12단 29인치 MTB 자전거 대차\n",
      "공원골프 연습장 쿠폰 판매합니다\n",
      "타미힐피거 남자 니트 L사이즈\n",
      "수납공간 많은 다이와 구명조끼. A급.\n",
      "철제 조립식 선반, 창고렉\n",
      "사용하지않은 접이식의자\n",
      "타미힐피거 패딩\n",
      "입생로랑\n",
      "청소용밀대\n",
      "나이키 운동화\n",
      "동계캠핑 접어요(이소가스 워머 팝니다)\n",
      "구찌 시계\n",
      "핸드메이드코트(고퀄)77-88까지 가능\n",
      "1+1 몽크로스 알프스 머미형 캠핑 침낭 차박용 침낭 (신품급)\n",
      "디스커버리 경량 패딩\n",
      "몽클레어 지니어스 데르보 유광패딩 새제품급판매합니다.\n",
      "새것같은 침대퀸사이즈\n",
      "스톤 패딩\n",
      "타워형 전기히터 새거팝니다\n",
      "sk매직 식기세척기\n",
      "물건 팔아요\n",
      "컴퓨터 모니터세트 팔아요\n",
      "S23 512GB\n",
      "폴로겨울슬리퍼\n",
      "유리병 쨈병\n",
      "겨울패딩옷\n",
      "미니냉장고판매\n",
      "스텐욕실선반\n",
      "사세리얼후라이드\n",
      "크리스마스트리 130cm\n",
      "월레스와 그로밋 그로밋키링 새상품\n",
      "노스페이스 후드집어\n",
      "새상품,남녀 공용,항공 점퍼\n",
      "새거**리바이스 오리털 55사이즈\n",
      "디스커버리 패딩 팝니다\n",
      "옛날재봉틀\n",
      "서울우유\n",
      "블랙 롱코트\n",
      "방한용 깔깔이\n",
      "나이키 맨투맨\n",
      "나이키덩크\n",
      "오늘까지만 아이폰15pro 256g 카메라 무음 화이트티타늄 팔아요\n",
      "싱크대(수전포함), 세면대\n",
      "LG TV\n"
     ]
    }
   ],
   "source": [
    "# select(조건) : 원하는 조건과 일치하는 부분만 선택해서 가져오기\n",
    "titles = soup.select('section > div > div > article > a > div.card-photo > img')\n",
    "\n",
    "for title in titles:\n",
    "    dtitle=title.get('alt')  #주어진 속성에 해당하는 값을 가져오기\n",
    "    print(dtitle)"
   ]
  },
  {
   "cell_type": "code",
   "execution_count": 19,
   "metadata": {
    "scrolled": true,
    "tags": []
   },
   "outputs": [
    {
     "data": {
      "text/plain": [
       "['샤넬가방.오래된가방.',\n",
       " '경운기팔아요',\n",
       " '엘파마 로사 mtb 판매합니다',\n",
       " '맘스터치 후라이드 싸이순살',\n",
       " '제가 안먹어서 급처분해요',\n",
       " '깔끔한 에어팟 맥스',\n",
       " '호주 어그 클리어부츠 새상품',\n",
       " '갤럭시워치 가죽 핀 스트랩 4색상',\n",
       " '알루미늄 육수통',\n",
       " '에어팟 프로 2 풀박스',\n",
       " '(짜가,새것)비비안웨스트우드 진주 목걸이',\n",
       " '화목난로 20만원에 팔아요',\n",
       " '음반 cd앨범',\n",
       " '급처분 싸게 팔아요..',\n",
       " '챔핑용장작',\n",
       " '바지 팔아요',\n",
       " '하늘마',\n",
       " '버버리 퀼팅 자켓 팝니다',\n",
       " '타요붕붕카',\n",
       " '카이저전문가용드라이기와 유닉스볼륨기',\n",
       " '아디다스여성골프백',\n",
       " '(완전새상품)락피쉬 클라우디 플랫폼 슬리퍼 블랙(250)',\n",
       " '라면  포트',\n",
       " '뉴발란스 아동패딩',\n",
       " '통기타',\n",
       " '뉴발란스 530 (235)',\n",
       " '전면책장',\n",
       " '인테리어 카페트',\n",
       " '롤호스 판매',\n",
       " '전기장판 더블사이즈',\n",
       " '마켓비 EZBO HERO 스트링 벽선반 시스템 수납함 책상  판매합니다',\n",
       " '갤럭시워치 싱글투어 스트랩 4색상',\n",
       " '두꺼운 인조 잔디 팝니다.',\n",
       " '수면잠옷세트 (1회착용세탁완료.)',\n",
       " '목걸이세트.시계.장갑',\n",
       " '바퀴 달린 스텐 바구니  처분',\n",
       " 'Z플립3 256기가 블랙 팝니다.',\n",
       " '513L 냉장고',\n",
       " '알로카시아 핑크드래곤,밤비노',\n",
       " '에몬스 책장',\n",
       " '갤럭시워치 실리콘 밴드 15색상',\n",
       " '점보도시락 팔아요',\n",
       " '겨울패딩',\n",
       " '아이폰 13미니 128 90%',\n",
       " '파리게이츠 패딩',\n",
       " '나이키 아디다스 양말 팔아요!!',\n",
       " '골프 스윙연습기',\n",
       " '린나이 가스레인지 infa2020J',\n",
       " '엘파마 벤토르 V6100 시마노 데오레 12단 29인치 MTB 자전거 대차',\n",
       " '공원골프 연습장 쿠폰 판매합니다',\n",
       " '타미힐피거 남자 니트 L사이즈',\n",
       " '수납공간 많은 다이와 구명조끼. A급.',\n",
       " '철제 조립식 선반, 창고렉',\n",
       " '사용하지않은 접이식의자',\n",
       " '타미힐피거 패딩',\n",
       " '입생로랑',\n",
       " '청소용밀대',\n",
       " '나이키 운동화',\n",
       " '동계캠핑 접어요(이소가스 워머 팝니다)',\n",
       " '구찌 시계',\n",
       " '핸드메이드코트(고퀄)77-88까지 가능',\n",
       " '1+1 몽크로스 알프스 머미형 캠핑 침낭 차박용 침낭 (신품급)',\n",
       " '디스커버리 경량 패딩',\n",
       " '몽클레어 지니어스 데르보 유광패딩 새제품급판매합니다.',\n",
       " '새것같은 침대퀸사이즈',\n",
       " '스톤 패딩',\n",
       " '타워형 전기히터 새거팝니다',\n",
       " 'sk매직 식기세척기',\n",
       " '물건 팔아요',\n",
       " '컴퓨터 모니터세트 팔아요',\n",
       " 'S23 512GB',\n",
       " '폴로겨울슬리퍼',\n",
       " '유리병 쨈병',\n",
       " '겨울패딩옷',\n",
       " '미니냉장고판매',\n",
       " '스텐욕실선반',\n",
       " '사세리얼후라이드',\n",
       " '크리스마스트리 130cm',\n",
       " '월레스와 그로밋 그로밋키링 새상품',\n",
       " '노스페이스 후드집어',\n",
       " '새상품,남녀 공용,항공 점퍼',\n",
       " '새거**리바이스 오리털 55사이즈',\n",
       " '디스커버리 패딩 팝니다',\n",
       " '옛날재봉틀',\n",
       " '서울우유',\n",
       " '블랙 롱코트',\n",
       " '방한용 깔깔이',\n",
       " '나이키 맨투맨',\n",
       " '나이키덩크',\n",
       " '오늘까지만 아이폰15pro 256g 카메라 무음 화이트티타늄 팔아요',\n",
       " '싱크대(수전포함), 세면대',\n",
       " 'LG TV']"
      ]
     },
     "execution_count": 19,
     "metadata": {},
     "output_type": "execute_result"
    }
   ],
   "source": [
    "# select(조건) : 원하는 조건과 일치하는 부분만 선택해서 가져오기\n",
    "# 목록들을 리스트 형태로 저장\n",
    "titles = soup.select('section > div > div > article > a > div.card-photo > img')\n",
    "titlelist = list()\n",
    "\n",
    "for title in titles:\n",
    "    dtitle=title.get('alt')  #주어진 속성에 해당하는 값을 가져오기\n",
    "    titlelist.append(dtitle) #리스트에 추가\n",
    "\n",
    "titlelist"
   ]
  },
  {
   "cell_type": "code",
   "execution_count": 20,
   "metadata": {
    "tags": []
   },
   "outputs": [
    {
     "name": "stdout",
     "output_type": "stream",
     "text": [
      "샤넬가방.오래된가방. https://dnvefa72aowie.cloudfront.net/origin/article/202311/dd815ffd0f0b1ad470e3a74a0c01c41d61a5fe8ade2a62fedca745347b5f8dbd_0.webp?q=82&s=300x300&t=crop&f=webp\n",
      "경운기팔아요 https://dnvefa72aowie.cloudfront.net/origin/article/202311/e370a4613d14df65adfd93248b4dfae568901d426a001fce1fccf3c57a18ae0d_0.webp?q=82&s=300x300&t=crop&f=webp\n",
      "엘파마 로사 mtb 판매합니다 https://dnvefa72aowie.cloudfront.net/origin/article/202311/faf093176e66e8f2d94de6076f7d8b35c5a005711d666ea3e8b2671fea2dad2b.jpg?q=82&s=300x300&t=crop&f=webp\n",
      "맘스터치 후라이드 싸이순살 https://dnvefa72aowie.cloudfront.net/origin/article/202311/b2f345df4225bd58a66b0fb3a84fe8241a2853ddf6f6c22343847e2b09996218.webp?q=82&s=300x300&t=crop&f=webp\n",
      "제가 안먹어서 급처분해요 https://dnvefa72aowie.cloudfront.net/origin/article/202311/2330c3ee85527520617fed19b1e9c23560fb7e8e6681964084ed723e223e39de_0.webp?q=82&s=300x300&t=crop&f=webp\n",
      "깔끔한 에어팟 맥스 https://dnvefa72aowie.cloudfront.net/origin/article/202311/4accffa8dc76a9fb6351406bdbfe1837a5213a09eef90d5460d27db023232973.jpg?q=82&s=300x300&t=crop&f=webp\n",
      "호주 어그 클리어부츠 새상품 https://dnvefa72aowie.cloudfront.net/origin/article/202311/e4056a7e2693a2dc6ae3f6377f475d31e584cfff76f243b4e8e283c6a36935ca_0.webp?q=82&s=300x300&t=crop&f=webp\n",
      "갤럭시워치 가죽 핀 스트랩 4색상 https://dnvefa72aowie.cloudfront.net/origin/article/202311/1d9e34161730e02a27d277fe06bc667317e368dd6258918effe0e8613cf356c6.jpg?q=82&s=300x300&t=crop&f=webp\n",
      "알루미늄 육수통 https://dnvefa72aowie.cloudfront.net/origin/article/202311/96fc3d7c4cd0b2af4947331ea6973c5857dba640674260ce84af886fa26715f5_0.webp?q=82&s=300x300&t=crop&f=webp\n",
      "에어팟 프로 2 풀박스 https://dnvefa72aowie.cloudfront.net/origin/article/202311/cebd6753cfcd26476a195edcd3c35e9c43e7a07d63b556ea82b365fc35195411.jpg?q=82&s=300x300&t=crop&f=webp\n",
      "(짜가,새것)비비안웨스트우드 진주 목걸이 https://dnvefa72aowie.cloudfront.net/origin/article/202311/9286499958fd742dddb42e5ad2b4ed4090e1aa9a1173f214436afbc123428469_0.webp?q=82&s=300x300&t=crop&f=webp\n",
      "화목난로 20만원에 팔아요 https://dnvefa72aowie.cloudfront.net/origin/article/202311/8104cde23783ada5e8cd88a5800745b8821eb12384e7c0c6f2b4f44eb94afcb8_0.webp?q=82&s=300x300&t=crop&f=webp\n",
      "음반 cd앨범 https://dnvefa72aowie.cloudfront.net/origin/article/202311/082d1f164bc71fc5ecbf392a5ddff3df8282aab8362bcdef1b7009534d6b9db9_0.webp?q=82&s=300x300&t=crop&f=webp\n",
      "급처분 싸게 팔아요.. https://dnvefa72aowie.cloudfront.net/origin/article/202311/78d0b07dd80c385389f4d31d90e1fdbe89815e75bdbd672e8f910ec1d9b7ee9d_0.webp?q=82&s=300x300&t=crop&f=webp\n",
      "챔핑용장작 https://dnvefa72aowie.cloudfront.net/origin/article/202311/f0733541d9e9dec67d29d8720403f2ecca0a1436310d7534e495e143054550b2_0.webp?q=82&s=300x300&t=crop&f=webp\n",
      "바지 팔아요 https://dnvefa72aowie.cloudfront.net/origin/article/202311/c4146605a1af06e4eb74df7c32aaca74f046b343a4b0002ac62af758f0cb308a_0.webp?q=82&s=300x300&t=crop&f=webp\n",
      "하늘마 https://dnvefa72aowie.cloudfront.net/origin/article/202311/8df8f5cdd89136a673433041e97292926bc0ca3f02964607ae45e218b85b0516_0.webp?q=82&s=300x300&t=crop&f=webp\n",
      "버버리 퀼팅 자켓 팝니다 https://dnvefa72aowie.cloudfront.net/origin/article/202311/e227a56b0ee5b61aa9f78dc393e7df17bf9ea1f1e4f6e45cd015824a3fc7f37b.jpg?q=82&s=300x300&t=crop&f=webp\n",
      "타요붕붕카 https://dnvefa72aowie.cloudfront.net/origin/article/202311/1041eb68e2340d3b9ce32d9994d77abb6f484af84fe88c6da03a12e9dc6ef8b7.jpg?q=82&s=300x300&t=crop&f=webp\n",
      "카이저전문가용드라이기와 유닉스볼륨기 https://dnvefa72aowie.cloudfront.net/origin/article/202311/456746750db5cc877d65781514706332440a5805b25addb2240860c96e14ba61_0.webp?q=82&s=300x300&t=crop&f=webp\n",
      "아디다스여성골프백 https://dnvefa72aowie.cloudfront.net/origin/article/202311/10bb57e839a8e6ffb5f0c9de4f731168ce75f47047223d2be4ebf3c8f8b37784_0.webp?q=82&s=300x300&t=crop&f=webp\n",
      "(완전새상품)락피쉬 클라우디 플랫폼 슬리퍼 블랙(250) https://dnvefa72aowie.cloudfront.net/origin/article/202311/815e3a9333cba25b62514319a347cb4a692c971d16fea6f1ef3aba1865a98573.jpg?q=82&s=300x300&t=crop&f=webp\n",
      "라면  포트 https://dnvefa72aowie.cloudfront.net/origin/article/202311/89935e2674fc5b8834e8c98cf697c767bea13f5530ec813695d5f38a8e460ba8_0.webp?q=82&s=300x300&t=crop&f=webp\n",
      "뉴발란스 아동패딩 https://dnvefa72aowie.cloudfront.net/origin/article/202311/89c1f29c27ec0b407ed557ab7d58f18675469bbdce4e562bfaa6f77058df11a9.jpg?q=82&s=300x300&t=crop&f=webp\n",
      "통기타 https://dnvefa72aowie.cloudfront.net/origin/article/202311/de55f5dd81f4c09c37df8b8807bcb9ce2208fad13b501318e7f0d71d9a4c9b3f_0.webp?q=82&s=300x300&t=crop&f=webp\n",
      "뉴발란스 530 (235) https://dnvefa72aowie.cloudfront.net/origin/article/202311/78e2840e3bcf1bdcde7af238b3b580d4b66ae2e3a114db9a1c0b77cd73152066.jpg?q=82&s=300x300&t=crop&f=webp\n",
      "전면책장 https://dnvefa72aowie.cloudfront.net/origin/article/202311/69c9ab53f8e8640e0ea20d8fd4cf510936cc75a00f73bfb33a7a5e642cd97dab.jpg?q=82&s=300x300&t=crop&f=webp\n",
      "인테리어 카페트 https://dnvefa72aowie.cloudfront.net/origin/article/202311/c1ec2d15f4f99d5a9ff81e9d3827242fbb84c12faaf124cfb3e2496e546101d9.jpg?q=82&s=300x300&t=crop&f=webp\n",
      "롤호스 판매 https://dnvefa72aowie.cloudfront.net/origin/article/202311/eea9f7359ee84bc1f532bd43d7962095216caafc5ad58f5b5fb44eae33cd55df_0.webp?q=82&s=300x300&t=crop&f=webp\n",
      "전기장판 더블사이즈 https://dnvefa72aowie.cloudfront.net/origin/article/202311/47858a602e07bf3712200bf607fffb24a90dfaf89af3658bdaa5e1242551d0ae_0.webp?q=82&s=300x300&t=crop&f=webp\n",
      "마켓비 EZBO HERO 스트링 벽선반 시스템 수납함 책상  판매합니다 https://dnvefa72aowie.cloudfront.net/origin/article/202311/3d8daf71d6f7e73bdb4c47eb2b55725321539247ebea2c5462e6e349be893fe2.jpg?q=82&s=300x300&t=crop&f=webp\n",
      "갤럭시워치 싱글투어 스트랩 4색상 https://dnvefa72aowie.cloudfront.net/origin/article/202311/fb1ccdc8b6f1350db6fa1d065004b57c3cfa3079867f6cd3840bf39b93332430.jpg?q=82&s=300x300&t=crop&f=webp\n",
      "두꺼운 인조 잔디 팝니다. https://dnvefa72aowie.cloudfront.net/origin/article/202311/e3acc86c4fbb2d994aec6fca696ca14f30ca449e5bd851a58845a5be0c9802f8_0.webp?q=82&s=300x300&t=crop&f=webp\n",
      "수면잠옷세트 (1회착용세탁완료.) https://dnvefa72aowie.cloudfront.net/origin/article/202311/5db8d359f2488e5e779b44696caf9130d997dc1fff04d7fb9ca6dff4d06f4eb2.jpg?q=82&s=300x300&t=crop&f=webp\n",
      "목걸이세트.시계.장갑 https://dnvefa72aowie.cloudfront.net/origin/article/202311/68fb4504e7ee86ac75e9f51dc5bbbdc963a3b16b446a3bd4ef82745fa86105fe_0.webp?q=82&s=300x300&t=crop&f=webp\n",
      "바퀴 달린 스텐 바구니  처분 https://dnvefa72aowie.cloudfront.net/origin/article/202311/50fa4b1db6ae1188c642f55630fef0adc534269c110ec7dc13a7e6f704f40f1c_0.webp?q=82&s=300x300&t=crop&f=webp\n",
      "Z플립3 256기가 블랙 팝니다. https://dnvefa72aowie.cloudfront.net/origin/article/202311/3efc1382f67d461bb9e17497d4ac4b5868afaad8dd6cc692b1daaccbbd9518a2_0.webp?q=82&s=300x300&t=crop&f=webp\n",
      "513L 냉장고 https://dnvefa72aowie.cloudfront.net/origin/article/202311/4e461ba23aff5a841693b4c03d6372e5505aeefa9ece44bf68ec23a01547d04a_0.webp?q=82&s=300x300&t=crop&f=webp\n",
      "알로카시아 핑크드래곤,밤비노 https://dnvefa72aowie.cloudfront.net/origin/article/202311/680b3ab089067559de5ad3c120eba0cdbfc55ca3b1a7a34591c41d8dc9de1418_0.webp?q=82&s=300x300&t=crop&f=webp\n",
      "에몬스 책장 https://dnvefa72aowie.cloudfront.net/origin/article/202311/9ca836dd7007f42ac4988cdfcce7275d84c9bc646673945d235ca10349bee668.jpg?q=82&s=300x300&t=crop&f=webp\n",
      "갤럭시워치 실리콘 밴드 15색상 https://dnvefa72aowie.cloudfront.net/origin/article/202311/b4da4256c35c0d14dfc17c89cfa7b3c0926a4d861093d39c13f3b5c3a4d1b6a3.jpg?q=82&s=300x300&t=crop&f=webp\n",
      "점보도시락 팔아요 https://dnvefa72aowie.cloudfront.net/origin/article/202311/b4fe92517fa4a192ff12d704c181e03cf7ab6363a1577a4a8575ba10a1e1c1c3.jpg?q=82&s=300x300&t=crop&f=webp\n",
      "겨울패딩 https://dnvefa72aowie.cloudfront.net/origin/article/202311/e40676323214bb64964afe7501f3217983158dde34c07eb73dd9da6d9d5352ee_0.webp?q=82&s=300x300&t=crop&f=webp\n",
      "아이폰 13미니 128 90% https://dnvefa72aowie.cloudfront.net/origin/article/202311/bf6489f134c41284e37cf7f32f9d80a1e78e295877d887a6f64f06f8883b0e5d_0.webp?q=82&s=300x300&t=crop&f=webp\n",
      "파리게이츠 패딩 https://dnvefa72aowie.cloudfront.net/origin/article/202311/b3da03952489bdbd3002cf84fda36b352382f41ebce116539830dd9cccc463cd_0.webp?q=82&s=300x300&t=crop&f=webp\n",
      "나이키 아디다스 양말 팔아요!! https://dnvefa72aowie.cloudfront.net/origin/article/202311/54a77612e604ce57efdc129733126f1da5232c8b1ee3acf5e3a514c9ac11a256_0.webp?q=82&s=300x300&t=crop&f=webp\n",
      "골프 스윙연습기 https://dnvefa72aowie.cloudfront.net/origin/article/202311/529bb671cc3ec03809359bded7d4524735c22fce0906e02864e3eeabe242a49d.jpg?q=82&s=300x300&t=crop&f=webp\n",
      "린나이 가스레인지 infa2020J https://dnvefa72aowie.cloudfront.net/origin/article/202311/904895058c063ed916a1ba72a6913b6c9efc6b5d32232da7a1ec0ef895efdc26.jpg?q=82&s=300x300&t=crop&f=webp\n",
      "엘파마 벤토르 V6100 시마노 데오레 12단 29인치 MTB 자전거 대차 https://dnvefa72aowie.cloudfront.net/origin/article/202311/f4073d8a99d60cee244b3c458f2b2b7e4bd7f43fe2f5247c62e317edcc091c6e_0.webp?q=82&s=300x300&t=crop&f=webp\n",
      "공원골프 연습장 쿠폰 판매합니다 https://dnvefa72aowie.cloudfront.net/origin/article/202311/b724bbb6054f4cdcfac3b75a1b52299e58d8c2feb50f2fa35412cdd030d83148_0.webp?q=82&s=300x300&t=crop&f=webp\n",
      "타미힐피거 남자 니트 L사이즈 https://dnvefa72aowie.cloudfront.net/origin/article/202311/1b861c2ab2cd1f41fb496db3d2ac126d6ad392ca20c6269150731868ba10df51_0.webp?q=82&s=300x300&t=crop&f=webp\n",
      "수납공간 많은 다이와 구명조끼. A급. https://dnvefa72aowie.cloudfront.net/origin/article/202311/fd407bc4b404b2af3692f3795ffd62797128a1b82a21b12f422f17898e86802a_0.webp?q=82&s=300x300&t=crop&f=webp\n",
      "철제 조립식 선반, 창고렉 https://dnvefa72aowie.cloudfront.net/origin/article/202311/49e4a18f01dfca62f373b51844e351428324703eb9ba82b582107f66561792bb.jpg?q=82&s=300x300&t=crop&f=webp\n",
      "사용하지않은 접이식의자 https://dnvefa72aowie.cloudfront.net/origin/article/202311/b63d9aaa6c39dfc0554df9cc7c736df1971123374f7f4dbbc33c8d3945abfb3d_0.webp?q=82&s=300x300&t=crop&f=webp\n",
      "타미힐피거 패딩 https://dnvefa72aowie.cloudfront.net/origin/article/202311/edfef04e669e59db359a6bbf21046cee8f6059be25f15b379e6613d18e3ee4ca.jpg?q=82&s=300x300&t=crop&f=webp\n",
      "입생로랑 https://dnvefa72aowie.cloudfront.net/origin/article/202311/a24052841793e2b8b498429bb27157e2cffb74c883c57af4438a73d362558e88.jpg?q=82&s=300x300&t=crop&f=webp\n",
      "청소용밀대 https://dnvefa72aowie.cloudfront.net/origin/article/202311/ebe88160b54785c38c582104539547e72fcd2e48c270f2ff79dc7dbe7a5ea40f_0.webp?q=82&s=300x300&t=crop&f=webp\n",
      "나이키 운동화 https://dnvefa72aowie.cloudfront.net/origin/article/202311/c5b72e43ca602a6e3df058611a9660c65f36b3a916e5ef54134f27ef884dc262_0.webp?q=82&s=300x300&t=crop&f=webp\n",
      "동계캠핑 접어요(이소가스 워머 팝니다) https://dnvefa72aowie.cloudfront.net/origin/article/202311/c83837b7a3d9715bd3f20fd8da80d6bec0b0bfc8b1511178f995bca1d88d11b7.jpg?q=82&s=300x300&t=crop&f=webp\n",
      "구찌 시계 https://dnvefa72aowie.cloudfront.net/origin/article/202311/cfff9e0cc3c40253ae0853f76c2d29fb2724435b5cfc572f8158a5ebc9c66930.jpg?q=82&s=300x300&t=crop&f=webp\n",
      "핸드메이드코트(고퀄)77-88까지 가능 https://dnvefa72aowie.cloudfront.net/origin/article/202311/415a39937a53086dec472a5bb53f2ece2baf455d889aca61433852ef5f53337a.jpg?q=82&s=300x300&t=crop&f=webp\n",
      "1+1 몽크로스 알프스 머미형 캠핑 침낭 차박용 침낭 (신품급) https://dnvefa72aowie.cloudfront.net/origin/article/202311/ef6a0b26327c3ffcf4ef175b2cf0f4c5c4ec890c99dbe3b0ca5178886dddb325.jpg?q=82&s=300x300&t=crop&f=webp\n",
      "디스커버리 경량 패딩 https://dnvefa72aowie.cloudfront.net/origin/article/202311/fb3458ae6e91fbe09372d47fedd264319977f1a3c85f8e291b12e4d5a97ffb35.jpg?q=82&s=300x300&t=crop&f=webp\n",
      "몽클레어 지니어스 데르보 유광패딩 새제품급판매합니다. https://dnvefa72aowie.cloudfront.net/origin/article/202311/209ce0bcf9f0abc40cd4ec090deaa2aab6072fdc36359fc2aeac489e782b5fa6_0.webp?q=82&s=300x300&t=crop&f=webp\n",
      "새것같은 침대퀸사이즈 https://dnvefa72aowie.cloudfront.net/origin/article/202311/0877caa878febe01d2faf7a8d0572da64f25bb7d9e339a686d9773a406d8d4f2_0.webp?q=82&s=300x300&t=crop&f=webp\n",
      "스톤 패딩 https://dnvefa72aowie.cloudfront.net/origin/article/202311/23b31fcfb74101c645f643a5cd7fd6f807d75b65e615b883f6894fe3e4541157_0.webp?q=82&s=300x300&t=crop&f=webp\n",
      "타워형 전기히터 새거팝니다 https://dnvefa72aowie.cloudfront.net/origin/article/202311/31ff3234948fa790810d2891356a5ddc29c5d37c94bda8346ee9cb7b081547d2_0.webp?q=82&s=300x300&t=crop&f=webp\n",
      "sk매직 식기세척기 https://dnvefa72aowie.cloudfront.net/origin/article/202311/6b74628fabbf151ef1fae903c4569a164dd6413b81de2190952c774e21c13f96.jpg?q=82&s=300x300&t=crop&f=webp\n",
      "물건 팔아요 https://dnvefa72aowie.cloudfront.net/origin/article/202311/b256b55d94189e94ec5f28a30f7a877ea8967a3a9354c5d17b8bf7c951357b00.jpg?q=82&s=300x300&t=crop&f=webp\n",
      "컴퓨터 모니터세트 팔아요 https://dnvefa72aowie.cloudfront.net/origin/article/202311/91d1bb9e67d24d7f491b65f59921c095b241f6a6355ff690fd682ffe75ad8b90_0.webp?q=82&s=300x300&t=crop&f=webp\n",
      "S23 512GB https://dnvefa72aowie.cloudfront.net/origin/article/202311/7bd9a498b3ebfa517418b9f8920238edb7a9bc9c94008dd3945ad0f278431340.jpg?q=82&s=300x300&t=crop&f=webp\n",
      "폴로겨울슬리퍼 https://dnvefa72aowie.cloudfront.net/origin/article/202311/86cbdfb363dd9f620dcfe851d6a3a14288c52beee54a1363e0e82b19e5c8bfab_0.webp?q=82&s=300x300&t=crop&f=webp\n",
      "유리병 쨈병 https://dnvefa72aowie.cloudfront.net/origin/article/202311/04721bbc0ab0066c5c5de1f6c571201c3f7dfd43f039161bf02e5a0bb909bbd8_1.webp?q=82&s=300x300&t=crop&f=webp\n",
      "겨울패딩옷 https://dnvefa72aowie.cloudfront.net/origin/article/202311/351a555296a027284a29cff803b3ca5e587908acdac5bdb51ffe1d931175f590_0.webp?q=82&s=300x300&t=crop&f=webp\n",
      "미니냉장고판매 https://dnvefa72aowie.cloudfront.net/origin/article/202311/57066a5d808f2b7486ef69122bb9aa57a3eaee20fcb8e87304fa2417747d696c_0.webp?q=82&s=300x300&t=crop&f=webp\n",
      "스텐욕실선반 https://dnvefa72aowie.cloudfront.net/origin/article/202311/38d86fa6e38a9dfaa7cf7563c876507f4292b23e855daa03a5b57f1e90989730_0.webp?q=82&s=300x300&t=crop&f=webp\n",
      "사세리얼후라이드 https://dnvefa72aowie.cloudfront.net/origin/article/202311/f79b829f3466bb74e7377927d973904dedb54b1fd5fdcd9d9193e785385574c6_0.webp?q=82&s=300x300&t=crop&f=webp\n",
      "크리스마스트리 130cm https://dnvefa72aowie.cloudfront.net/origin/article/202311/2355f062e47aa922fa9632f20a0588be2955d75ed30538c79d147c7c645608a5.jpg?q=82&s=300x300&t=crop&f=webp\n",
      "월레스와 그로밋 그로밋키링 새상품 https://dnvefa72aowie.cloudfront.net/origin/article/202311/9414cb8141a74cb124499bd605dc25cdd4d0fd53f27a5800da28f9eeb807d5c3_0.webp?q=82&s=300x300&t=crop&f=webp\n",
      "노스페이스 후드집어 https://dnvefa72aowie.cloudfront.net/origin/article/202311/9a5336b0de1d30b6d405d712da00ce2dfb29e550a3bd76454285e1ea01494ffe.jpg?q=82&s=300x300&t=crop&f=webp\n",
      "새상품,남녀 공용,항공 점퍼 https://dnvefa72aowie.cloudfront.net/origin/article/202311/ffb36f6bed694a4f21d478337f63d8795c1d64df710823d42038bd1b65130adb_0.webp?q=82&s=300x300&t=crop&f=webp\n",
      "새거**리바이스 오리털 55사이즈 https://dnvefa72aowie.cloudfront.net/origin/article/202311/0eceb6c4f3b6af800a16b6f0b160ea1f5c39e006fea96fbc304f8f1ed8afa0f4.jpg?q=82&s=300x300&t=crop&f=webp\n",
      "디스커버리 패딩 팝니다 https://dnvefa72aowie.cloudfront.net/origin/article/202311/eeb597eb05cb27880d76fb77525412e7aa5858f9d20bf4015fb16b5657c997bd_0.webp?q=82&s=300x300&t=crop&f=webp\n",
      "옛날재봉틀 https://dnvefa72aowie.cloudfront.net/origin/article/202311/98e12df8c58c14e04cafdf897fb10548a239deca626d0bca323d04ed75203548_0.webp?q=82&s=300x300&t=crop&f=webp\n",
      "서울우유 https://dnvefa72aowie.cloudfront.net/origin/article/202311/4e0d6b427e62461d19c3e02334c40e82d08c81498234d3c9461df8c3b60e166e.jpg?q=82&s=300x300&t=crop&f=webp\n",
      "블랙 롱코트 https://dnvefa72aowie.cloudfront.net/origin/article/202311/d5affe6b7ac48c8a7faf51b3b9c81d7487b61bd559d5f6e868c62524c61b4a2a.jpg?q=82&s=300x300&t=crop&f=webp\n",
      "방한용 깔깔이 https://dnvefa72aowie.cloudfront.net/origin/article/202311/c5002108740c41590966e86bccfa855d3ef42112efcc83dc17c1d8b463281eb4.jpg?q=82&s=300x300&t=crop&f=webp\n",
      "나이키 맨투맨 https://dnvefa72aowie.cloudfront.net/origin/article/202311/d8d98789644719b194911c88bb861d46dae8f0ff31669bbfea9b4b293d84540f.jpg?q=82&s=300x300&t=crop&f=webp\n",
      "나이키덩크 https://dnvefa72aowie.cloudfront.net/origin/article/202311/0dc09ed45f6b2ae733de0f7614956ecf8de8bda598a3410fd06bc9c80a056f14_0.webp?q=82&s=300x300&t=crop&f=webp\n",
      "오늘까지만 아이폰15pro 256g 카메라 무음 화이트티타늄 팔아요 https://dnvefa72aowie.cloudfront.net/origin/article/202311/b54baf83fa3cffae48f569a42e49c586eacb3f97fcb9f35cf8e836694ea41b7c_0.webp?q=82&s=300x300&t=crop&f=webp\n",
      "싱크대(수전포함), 세면대 https://dnvefa72aowie.cloudfront.net/origin/article/202311/afe32c079475757987df1b4164106280318ef93ced433dc7fa5c1bd1f48dcfdd_0.webp?q=82&s=300x300&t=crop&f=webp\n",
      "LG TV https://dnvefa72aowie.cloudfront.net/origin/article/202311/cd612585a2e9d77d99b70dd2581a12f54c5d8e217a27c549ce68bba5f6004ae4_0.webp?q=82&s=300x300&t=crop&f=webp\n"
     ]
    }
   ],
   "source": [
    "# select(조건) : 원하는 조건과 일치하는 부분만 선택해서 가져오기\n",
    "titles = soup.select('section > div > div > article > a > div.card-photo > img')\n",
    "\n",
    "for title in titles:\n",
    "    dtitle=title.get('alt')  #주어진 속성에 해당하는 값을 가져오기\n",
    "    link = title[\"src\"] # 링크값을 읽어옴\n",
    "    # link = title.get(\"src\") # 링크값을 읽어옴\n",
    "    # 얻어온 제목과 링크를 프린트함.     \n",
    "    print(dtitle, link)  "
   ]
  },
  {
   "cell_type": "markdown",
   "metadata": {},
   "source": [
    "### 'article-region-name' : 지역 가져오기"
   ]
  },
  {
   "attachments": {
    "988c242d-80e0-4a29-a978-b0fc169348c7.png": {
     "image/png": "[encoded data removed]"
    }
   },
   "cell_type": "markdown",
   "metadata": {},
   "source": [
    "![image.png](attachment:988c242d-80e0-4a29-a978-b0fc169348c7.png)"
   ]
  },
  {
   "cell_type": "code",
   "execution_count": 22,
   "metadata": {
    "tags": []
   },
   "outputs": [
    {
     "name": "stdout",
     "output_type": "stream",
     "text": [
      "울산 남구 신정3동\n",
      "울산 울주군 범서읍\n",
      "울산 남구 신정2동\n",
      "울산 남구 신정동\n",
      "울산 남구 삼산동\n",
      "울산 북구 호계동\n",
      "울산 중구 반구동\n",
      "울산 울주군 범서읍\n",
      "울산 남구 무거동\n",
      "울산 울주군 범서읍\n",
      "울산 중구 학산동\n",
      "울산 남구 야음동\n",
      "울산 남구 달동\n",
      "울산 남구 달동\n",
      "울산 울주군 범서읍\n",
      "울산 남구 신정4동\n",
      "울산 동구 남목1동\n",
      "울산 남구 달동\n",
      "울산 중구 반구1동\n",
      "울산 북구 농소3동\n",
      "울산 남구 달동\n",
      "울산 남구 달동\n",
      "울산 남구 옥동\n",
      "울산 남구 삼산동\n",
      "울산 남구 달동\n",
      "울산 남구 야음동\n",
      "울산 남구 대현동\n",
      "울산 남구 달동\n",
      "울산 남구 달동\n",
      "울산 중구 태화동\n",
      "울산 울주군 온양읍\n",
      "울산 울주군 범서읍\n",
      "울산 남구 무거동\n",
      "울산 울주군 청량읍\n",
      "울산 울주군 범서읍\n",
      "울산 남구 수암동\n",
      "울산 남구 무거동\n",
      "울산 중구 서동\n",
      "울산 남구 삼산동\n",
      "울산 남구 달동\n",
      "울산 울주군 범서읍\n",
      "울산 북구 화봉동\n",
      "울산 북구 강동동\n",
      "울산 남구 삼산동\n",
      "울산 남구 달동\n",
      "울산 북구 중산동\n",
      "울산 남구 삼산동\n",
      "울산 울주군 온양읍\n",
      "울산 남구 삼산동\n",
      "울산 동구 방어동\n",
      "울산 남구 대현동\n",
      "울산 중구 남외동\n",
      "울산 남구 무거동\n",
      "울산 남구 매암동\n",
      "울산 북구 송정동\n",
      "울산 동구 전하동\n",
      "울산 남구 삼산동\n",
      "울산 남구 무거동\n",
      "울산 북구 명촌동\n",
      "울산 남구 삼산동\n",
      "울산 중구 옥교동\n",
      "울산 중구 장현동\n",
      "울산 동구 방어동\n",
      "울산 북구 송정동\n",
      "울산 남구 매암동\n",
      "울산 북구 송정동\n",
      "울산 남구 삼산동\n",
      "울산 중구 중앙동\n",
      "울산 중구 반구2동\n",
      "울산 북구 농소3동\n",
      "울산 남구 삼산동\n",
      "울산 남구 삼산동\n",
      "울산 울주군 범서읍\n",
      "울산 동구 전하2동\n",
      "울산 남구 삼산동\n",
      "울산 중구 태화동\n",
      "울산 울주군 범서읍\n",
      "울산 남구 대현동\n",
      "울산 남구 달동\n",
      "울산 남구 신정4동\n",
      "울산 중구 학산동\n",
      "울산 남구 신정3동\n",
      "울산 북구 강동동\n",
      "울산 남구 무거동\n",
      "울산 북구 신천동\n",
      "울산 울주군 범서읍\n",
      "울산 울주군 범서읍\n",
      "울산 남구 삼산동\n",
      "울산 울주군 범서읍\n",
      "울산 남구 달동\n",
      "울산 남구 무거동\n",
      "울산 북구 신천동\n"
     ]
    }
   ],
   "source": [
    "regions = soup.select('section > div > div > article > a > div.article-info > p.article-region-name')\n",
    "for region in regions:\n",
    "    dreg = region.text   #시작태그와 종료태그 사이의 문자열을 가져오기 #region.get_text()\n",
    "    dreg = dreg.replace('\\n','').strip()  #개행문자(\\n)를 빈문자열로 교체.  strip()은 공백 제거\n",
    "    print(dreg)"
   ]
  },
  {
   "cell_type": "code",
   "execution_count": 23,
   "metadata": {
    "scrolled": true,
    "tags": []
   },
   "outputs": [
    {
     "data": {
      "text/plain": [
       "['울산 남구 신정3동',\n",
       " '울산 울주군 범서읍',\n",
       " '울산 남구 신정2동',\n",
       " '울산 남구 신정동',\n",
       " '울산 남구 삼산동',\n",
       " '울산 북구 호계동',\n",
       " '울산 중구 반구동',\n",
       " '울산 울주군 범서읍',\n",
       " '울산 남구 무거동',\n",
       " '울산 울주군 범서읍',\n",
       " '울산 중구 학산동',\n",
       " '울산 남구 야음동',\n",
       " '울산 남구 달동',\n",
       " '울산 남구 달동',\n",
       " '울산 울주군 범서읍',\n",
       " '울산 남구 신정4동',\n",
       " '울산 동구 남목1동',\n",
       " '울산 남구 달동',\n",
       " '울산 중구 반구1동',\n",
       " '울산 북구 농소3동',\n",
       " '울산 남구 달동',\n",
       " '울산 남구 달동',\n",
       " '울산 남구 옥동',\n",
       " '울산 남구 삼산동',\n",
       " '울산 남구 달동',\n",
       " '울산 남구 야음동',\n",
       " '울산 남구 대현동',\n",
       " '울산 남구 달동',\n",
       " '울산 남구 달동',\n",
       " '울산 중구 태화동',\n",
       " '울산 울주군 온양읍',\n",
       " '울산 울주군 범서읍',\n",
       " '울산 남구 무거동',\n",
       " '울산 울주군 청량읍',\n",
       " '울산 울주군 범서읍',\n",
       " '울산 남구 수암동',\n",
       " '울산 남구 무거동',\n",
       " '울산 중구 서동',\n",
       " '울산 남구 삼산동',\n",
       " '울산 남구 달동',\n",
       " '울산 울주군 범서읍',\n",
       " '울산 북구 화봉동',\n",
       " '울산 북구 강동동',\n",
       " '울산 남구 삼산동',\n",
       " '울산 남구 달동',\n",
       " '울산 북구 중산동',\n",
       " '울산 남구 삼산동',\n",
       " '울산 울주군 온양읍',\n",
       " '울산 남구 삼산동',\n",
       " '울산 동구 방어동',\n",
       " '울산 남구 대현동',\n",
       " '울산 중구 남외동',\n",
       " '울산 남구 무거동',\n",
       " '울산 남구 매암동',\n",
       " '울산 북구 송정동',\n",
       " '울산 동구 전하동',\n",
       " '울산 남구 삼산동',\n",
       " '울산 남구 무거동',\n",
       " '울산 북구 명촌동',\n",
       " '울산 남구 삼산동',\n",
       " '울산 중구 옥교동',\n",
       " '울산 중구 장현동',\n",
       " '울산 동구 방어동',\n",
       " '울산 북구 송정동',\n",
       " '울산 남구 매암동',\n",
       " '울산 북구 송정동',\n",
       " '울산 남구 삼산동',\n",
       " '울산 중구 중앙동',\n",
       " '울산 중구 반구2동',\n",
       " '울산 북구 농소3동',\n",
       " '울산 남구 삼산동',\n",
       " '울산 남구 삼산동',\n",
       " '울산 울주군 범서읍',\n",
       " '울산 동구 전하2동',\n",
       " '울산 남구 삼산동',\n",
       " '울산 중구 태화동',\n",
       " '울산 울주군 범서읍',\n",
       " '울산 남구 대현동',\n",
       " '울산 남구 달동',\n",
       " '울산 남구 신정4동',\n",
       " '울산 중구 학산동',\n",
       " '울산 남구 신정3동',\n",
       " '울산 북구 강동동',\n",
       " '울산 남구 무거동',\n",
       " '울산 북구 신천동',\n",
       " '울산 울주군 범서읍',\n",
       " '울산 울주군 범서읍',\n",
       " '울산 남구 삼산동',\n",
       " '울산 울주군 범서읍',\n",
       " '울산 남구 달동',\n",
       " '울산 남구 무거동',\n",
       " '울산 북구 신천동']"
      ]
     },
     "execution_count": 23,
     "metadata": {},
     "output_type": "execute_result"
    }
   ],
   "source": [
    "#article-region-name의 목록 결과를 리스트 형태로 저장\n",
    "regions = soup.select('section > div > div > article > a > div.article-info > p.article-region-name')\n",
    "regionlist = list()\n",
    "\n",
    "for region in regions:\n",
    "    dreg = region.text   #시작태그와 종료태그 사이의 문자열을 가져오기\n",
    "    dreg = dreg.replace('\\n','').strip()  #개행문자(\\n)를 빈문자열로 교체.  strip()은 공백 제거\n",
    "    regionlist.append(dreg)  \n",
    "    \n",
    "regionlist"
   ]
  },
  {
   "cell_type": "markdown",
   "metadata": {},
   "source": [
    "### 'article-price' : 가격 가져오기"
   ]
  },
  {
   "cell_type": "code",
   "execution_count": 24,
   "metadata": {
    "scrolled": true,
    "tags": []
   },
   "outputs": [
    {
     "data": {
      "text/plain": [
       "['200,000원',\n",
       " '700,000원',\n",
       " '130,000원',\n",
       " '8,000원',\n",
       " '10,000원',\n",
       " '370,000원',\n",
       " '82,000원',\n",
       " '4,000원',\n",
       " '30,000원',\n",
       " '170,000원',\n",
       " '10,000원',\n",
       " '200,000원',\n",
       " '60,000원',\n",
       " '55,000원',\n",
       " '10,000원',\n",
       " '30,000원',\n",
       " '7,000원',\n",
       " '150,000원',\n",
       " '5,000원',\n",
       " '20,000원',\n",
       " '70,000원',\n",
       " '40,000원',\n",
       " '7,000원',\n",
       " '30,000원',\n",
       " '30,000원',\n",
       " '30,000원',\n",
       " '10,000원',\n",
       " '8,000원',\n",
       " '35,000원',\n",
       " '13,000원',\n",
       " '150,000원',\n",
       " '4,000원',\n",
       " '50,000원',\n",
       " '5,000원',\n",
       " '5,000원',\n",
       " '3,000원',\n",
       " '150,000원',\n",
       " '50,000원',\n",
       " '1,000원',\n",
       " '20,000원',\n",
       " '1,500원',\n",
       " '8,500원',\n",
       " '30,000원',\n",
       " '400,000원',\n",
       " '100,000원',\n",
       " '20,000원',\n",
       " '10,000원',\n",
       " '50,000원',\n",
       " '730,000원',\n",
       " '60,000원',\n",
       " '10,000원',\n",
       " '96,000원',\n",
       " '100,000원',\n",
       " '29,000원',\n",
       " '90,000원',\n",
       " '80,000원',\n",
       " '1원',\n",
       " '20,000원',\n",
       " '20,000원',\n",
       " '250,000원',\n",
       " '150,000원',\n",
       " '25,000원',\n",
       " '70,000원',\n",
       " '135만원',\n",
       " '190,000원',\n",
       " '550,000원',\n",
       " '55,000원',\n",
       " '30,000원',\n",
       " '5,000원',\n",
       " '350,000원',\n",
       " '550,000원',\n",
       " '55,000원',\n",
       " '5,000원',\n",
       " '9,000원',\n",
       " '70,000원',\n",
       " '2,000원',\n",
       " '25,000원',\n",
       " '35,000원',\n",
       " '6,000원',\n",
       " '30,000원',\n",
       " '9,000원',\n",
       " '38,000원',\n",
       " '250,000원',\n",
       " '20,000원',\n",
       " '5,600원',\n",
       " '30,000원',\n",
       " '10,000원',\n",
       " '8,000원',\n",
       " '50,000원',\n",
       " '155만원',\n",
       " '30,000원',\n",
       " '50,000원']"
      ]
     },
     "execution_count": 24,
     "metadata": {},
     "output_type": "execute_result"
    }
   ],
   "source": [
    "prices = soup.select('section > div > div > article > a > div.article-info > p.article-price')\n",
    "pricelist = list()\n",
    "\n",
    "for price in prices:\n",
    "    dprice = price.text\n",
    "    dprice = dprice.replace('\\n','').strip()\n",
    "    pricelist.append(dprice)\n",
    "    \n",
    "pricelist"
   ]
  },
  {
   "cell_type": "code",
   "execution_count": 25,
   "metadata": {
    "tags": []
   },
   "outputs": [],
   "source": [
    "import pandas as pd\n",
    "import numpy as np"
   ]
  },
  {
   "cell_type": "code",
   "execution_count": 26,
   "metadata": {
    "scrolled": true,
    "tags": []
   },
   "outputs": [
    {
     "data": {
      "text/plain": [
       "{'물품명': ['샤넬가방.오래된가방.',\n",
       "  '경운기팔아요',\n",
       "  '엘파마 로사 mtb 판매합니다',\n",
       "  '맘스터치 후라이드 싸이순살',\n",
       "  '제가 안먹어서 급처분해요',\n",
       "  '깔끔한 에어팟 맥스',\n",
       "  '호주 어그 클리어부츠 새상품',\n",
       "  '갤럭시워치 가죽 핀 스트랩 4색상',\n",
       "  '알루미늄 육수통',\n",
       "  '에어팟 프로 2 풀박스',\n",
       "  '(짜가,새것)비비안웨스트우드 진주 목걸이',\n",
       "  '화목난로 20만원에 팔아요',\n",
       "  '음반 cd앨범',\n",
       "  '급처분 싸게 팔아요..',\n",
       "  '챔핑용장작',\n",
       "  '바지 팔아요',\n",
       "  '하늘마',\n",
       "  '버버리 퀼팅 자켓 팝니다',\n",
       "  '타요붕붕카',\n",
       "  '카이저전문가용드라이기와 유닉스볼륨기',\n",
       "  '아디다스여성골프백',\n",
       "  '(완전새상품)락피쉬 클라우디 플랫폼 슬리퍼 블랙(250)',\n",
       "  '라면  포트',\n",
       "  '뉴발란스 아동패딩',\n",
       "  '통기타',\n",
       "  '뉴발란스 530 (235)',\n",
       "  '전면책장',\n",
       "  '인테리어 카페트',\n",
       "  '롤호스 판매',\n",
       "  '전기장판 더블사이즈',\n",
       "  '마켓비 EZBO HERO 스트링 벽선반 시스템 수납함 책상  판매합니다',\n",
       "  '갤럭시워치 싱글투어 스트랩 4색상',\n",
       "  '두꺼운 인조 잔디 팝니다.',\n",
       "  '수면잠옷세트 (1회착용세탁완료.)',\n",
       "  '목걸이세트.시계.장갑',\n",
       "  '바퀴 달린 스텐 바구니  처분',\n",
       "  'Z플립3 256기가 블랙 팝니다.',\n",
       "  '513L 냉장고',\n",
       "  '알로카시아 핑크드래곤,밤비노',\n",
       "  '에몬스 책장',\n",
       "  '갤럭시워치 실리콘 밴드 15색상',\n",
       "  '점보도시락 팔아요',\n",
       "  '겨울패딩',\n",
       "  '아이폰 13미니 128 90%',\n",
       "  '파리게이츠 패딩',\n",
       "  '나이키 아디다스 양말 팔아요!!',\n",
       "  '골프 스윙연습기',\n",
       "  '린나이 가스레인지 infa2020J',\n",
       "  '엘파마 벤토르 V6100 시마노 데오레 12단 29인치 MTB 자전거 대차',\n",
       "  '공원골프 연습장 쿠폰 판매합니다',\n",
       "  '타미힐피거 남자 니트 L사이즈',\n",
       "  '수납공간 많은 다이와 구명조끼. A급.',\n",
       "  '철제 조립식 선반, 창고렉',\n",
       "  '사용하지않은 접이식의자',\n",
       "  '타미힐피거 패딩',\n",
       "  '입생로랑',\n",
       "  '청소용밀대',\n",
       "  '나이키 운동화',\n",
       "  '동계캠핑 접어요(이소가스 워머 팝니다)',\n",
       "  '구찌 시계',\n",
       "  '핸드메이드코트(고퀄)77-88까지 가능',\n",
       "  '1+1 몽크로스 알프스 머미형 캠핑 침낭 차박용 침낭 (신품급)',\n",
       "  '디스커버리 경량 패딩',\n",
       "  '몽클레어 지니어스 데르보 유광패딩 새제품급판매합니다.',\n",
       "  '새것같은 침대퀸사이즈',\n",
       "  '스톤 패딩',\n",
       "  '타워형 전기히터 새거팝니다',\n",
       "  'sk매직 식기세척기',\n",
       "  '물건 팔아요',\n",
       "  '컴퓨터 모니터세트 팔아요',\n",
       "  'S23 512GB',\n",
       "  '폴로겨울슬리퍼',\n",
       "  '유리병 쨈병',\n",
       "  '겨울패딩옷',\n",
       "  '미니냉장고판매',\n",
       "  '스텐욕실선반',\n",
       "  '사세리얼후라이드',\n",
       "  '크리스마스트리 130cm',\n",
       "  '월레스와 그로밋 그로밋키링 새상품',\n",
       "  '노스페이스 후드집어',\n",
       "  '새상품,남녀 공용,항공 점퍼',\n",
       "  '새거**리바이스 오리털 55사이즈',\n",
       "  '디스커버리 패딩 팝니다',\n",
       "  '옛날재봉틀',\n",
       "  '서울우유',\n",
       "  '블랙 롱코트',\n",
       "  '방한용 깔깔이',\n",
       "  '나이키 맨투맨',\n",
       "  '나이키덩크',\n",
       "  '오늘까지만 아이폰15pro 256g 카메라 무음 화이트티타늄 팔아요',\n",
       "  '싱크대(수전포함), 세면대',\n",
       "  'LG TV'],\n",
       " '지역': ['울산 남구 신정3동',\n",
       "  '울산 울주군 범서읍',\n",
       "  '울산 남구 신정2동',\n",
       "  '울산 남구 신정동',\n",
       "  '울산 남구 삼산동',\n",
       "  '울산 북구 호계동',\n",
       "  '울산 중구 반구동',\n",
       "  '울산 울주군 범서읍',\n",
       "  '울산 남구 무거동',\n",
       "  '울산 울주군 범서읍',\n",
       "  '울산 중구 학산동',\n",
       "  '울산 남구 야음동',\n",
       "  '울산 남구 달동',\n",
       "  '울산 남구 달동',\n",
       "  '울산 울주군 범서읍',\n",
       "  '울산 남구 신정4동',\n",
       "  '울산 동구 남목1동',\n",
       "  '울산 남구 달동',\n",
       "  '울산 중구 반구1동',\n",
       "  '울산 북구 농소3동',\n",
       "  '울산 남구 달동',\n",
       "  '울산 남구 달동',\n",
       "  '울산 남구 옥동',\n",
       "  '울산 남구 삼산동',\n",
       "  '울산 남구 달동',\n",
       "  '울산 남구 야음동',\n",
       "  '울산 남구 대현동',\n",
       "  '울산 남구 달동',\n",
       "  '울산 남구 달동',\n",
       "  '울산 중구 태화동',\n",
       "  '울산 울주군 온양읍',\n",
       "  '울산 울주군 범서읍',\n",
       "  '울산 남구 무거동',\n",
       "  '울산 울주군 청량읍',\n",
       "  '울산 울주군 범서읍',\n",
       "  '울산 남구 수암동',\n",
       "  '울산 남구 무거동',\n",
       "  '울산 중구 서동',\n",
       "  '울산 남구 삼산동',\n",
       "  '울산 남구 달동',\n",
       "  '울산 울주군 범서읍',\n",
       "  '울산 북구 화봉동',\n",
       "  '울산 북구 강동동',\n",
       "  '울산 남구 삼산동',\n",
       "  '울산 남구 달동',\n",
       "  '울산 북구 중산동',\n",
       "  '울산 남구 삼산동',\n",
       "  '울산 울주군 온양읍',\n",
       "  '울산 남구 삼산동',\n",
       "  '울산 동구 방어동',\n",
       "  '울산 남구 대현동',\n",
       "  '울산 중구 남외동',\n",
       "  '울산 남구 무거동',\n",
       "  '울산 남구 매암동',\n",
       "  '울산 북구 송정동',\n",
       "  '울산 동구 전하동',\n",
       "  '울산 남구 삼산동',\n",
       "  '울산 남구 무거동',\n",
       "  '울산 북구 명촌동',\n",
       "  '울산 남구 삼산동',\n",
       "  '울산 중구 옥교동',\n",
       "  '울산 중구 장현동',\n",
       "  '울산 동구 방어동',\n",
       "  '울산 북구 송정동',\n",
       "  '울산 남구 매암동',\n",
       "  '울산 북구 송정동',\n",
       "  '울산 남구 삼산동',\n",
       "  '울산 중구 중앙동',\n",
       "  '울산 중구 반구2동',\n",
       "  '울산 북구 농소3동',\n",
       "  '울산 남구 삼산동',\n",
       "  '울산 남구 삼산동',\n",
       "  '울산 울주군 범서읍',\n",
       "  '울산 동구 전하2동',\n",
       "  '울산 남구 삼산동',\n",
       "  '울산 중구 태화동',\n",
       "  '울산 울주군 범서읍',\n",
       "  '울산 남구 대현동',\n",
       "  '울산 남구 달동',\n",
       "  '울산 남구 신정4동',\n",
       "  '울산 중구 학산동',\n",
       "  '울산 남구 신정3동',\n",
       "  '울산 북구 강동동',\n",
       "  '울산 남구 무거동',\n",
       "  '울산 북구 신천동',\n",
       "  '울산 울주군 범서읍',\n",
       "  '울산 울주군 범서읍',\n",
       "  '울산 남구 삼산동',\n",
       "  '울산 울주군 범서읍',\n",
       "  '울산 남구 달동',\n",
       "  '울산 남구 무거동',\n",
       "  '울산 북구 신천동'],\n",
       " '가격': ['200,000원',\n",
       "  '700,000원',\n",
       "  '130,000원',\n",
       "  '8,000원',\n",
       "  '10,000원',\n",
       "  '370,000원',\n",
       "  '82,000원',\n",
       "  '4,000원',\n",
       "  '30,000원',\n",
       "  '170,000원',\n",
       "  '10,000원',\n",
       "  '200,000원',\n",
       "  '60,000원',\n",
       "  '55,000원',\n",
       "  '10,000원',\n",
       "  '30,000원',\n",
       "  '7,000원',\n",
       "  '150,000원',\n",
       "  '5,000원',\n",
       "  '20,000원',\n",
       "  '70,000원',\n",
       "  '40,000원',\n",
       "  '7,000원',\n",
       "  '30,000원',\n",
       "  '30,000원',\n",
       "  '30,000원',\n",
       "  '10,000원',\n",
       "  '8,000원',\n",
       "  '35,000원',\n",
       "  '13,000원',\n",
       "  '150,000원',\n",
       "  '4,000원',\n",
       "  '50,000원',\n",
       "  '5,000원',\n",
       "  '5,000원',\n",
       "  '3,000원',\n",
       "  '150,000원',\n",
       "  '50,000원',\n",
       "  '1,000원',\n",
       "  '20,000원',\n",
       "  '1,500원',\n",
       "  '8,500원',\n",
       "  '30,000원',\n",
       "  '400,000원',\n",
       "  '100,000원',\n",
       "  '20,000원',\n",
       "  '10,000원',\n",
       "  '50,000원',\n",
       "  '730,000원',\n",
       "  '60,000원',\n",
       "  '10,000원',\n",
       "  '96,000원',\n",
       "  '100,000원',\n",
       "  '29,000원',\n",
       "  '90,000원',\n",
       "  '80,000원',\n",
       "  '1원',\n",
       "  '20,000원',\n",
       "  '20,000원',\n",
       "  '250,000원',\n",
       "  '150,000원',\n",
       "  '25,000원',\n",
       "  '70,000원',\n",
       "  '135만원',\n",
       "  '190,000원',\n",
       "  '550,000원',\n",
       "  '55,000원',\n",
       "  '30,000원',\n",
       "  '5,000원',\n",
       "  '350,000원',\n",
       "  '550,000원',\n",
       "  '55,000원',\n",
       "  '5,000원',\n",
       "  '9,000원',\n",
       "  '70,000원',\n",
       "  '2,000원',\n",
       "  '25,000원',\n",
       "  '35,000원',\n",
       "  '6,000원',\n",
       "  '30,000원',\n",
       "  '9,000원',\n",
       "  '38,000원',\n",
       "  '250,000원',\n",
       "  '20,000원',\n",
       "  '5,600원',\n",
       "  '30,000원',\n",
       "  '10,000원',\n",
       "  '8,000원',\n",
       "  '50,000원',\n",
       "  '155만원',\n",
       "  '30,000원',\n",
       "  '50,000원']}"
      ]
     },
     "execution_count": 26,
     "metadata": {},
     "output_type": "execute_result"
    }
   ],
   "source": [
    "dicResult = {'물품명':titlelist, '지역':regionlist, '가격':pricelist}\n",
    "dicResult"
   ]
  },
  {
   "cell_type": "code",
   "execution_count": 27,
   "metadata": {
    "tags": []
   },
   "outputs": [
    {
     "data": {
      "text/html": [
       "<div>\n",
       "<style scoped>\n",
       "    .dataframe tbody tr th:only-of-type {\n",
       "        vertical-align: middle;\n",
       "    }\n",
       "\n",
       "    .dataframe tbody tr th {\n",
       "        vertical-align: top;\n",
       "    }\n",
       "\n",
       "    .dataframe thead th {\n",
       "        text-align: right;\n",
       "    }\n",
       "</style>\n",
       "<table border=\"1\" class=\"dataframe\">\n",
       "  <thead>\n",
       "    <tr style=\"text-align: right;\">\n",
       "      <th></th>\n",
       "      <th>물품명</th>\n",
       "      <th>지역</th>\n",
       "      <th>가격</th>\n",
       "    </tr>\n",
       "  </thead>\n",
       "  <tbody>\n",
       "    <tr>\n",
       "      <th>0</th>\n",
       "      <td>샤넬가방.오래된가방.</td>\n",
       "      <td>울산 남구 신정3동</td>\n",
       "      <td>200,000원</td>\n",
       "    </tr>\n",
       "    <tr>\n",
       "      <th>1</th>\n",
       "      <td>경운기팔아요</td>\n",
       "      <td>울산 울주군 범서읍</td>\n",
       "      <td>700,000원</td>\n",
       "    </tr>\n",
       "    <tr>\n",
       "      <th>2</th>\n",
       "      <td>엘파마 로사 mtb 판매합니다</td>\n",
       "      <td>울산 남구 신정2동</td>\n",
       "      <td>130,000원</td>\n",
       "    </tr>\n",
       "    <tr>\n",
       "      <th>3</th>\n",
       "      <td>맘스터치 후라이드 싸이순살</td>\n",
       "      <td>울산 남구 신정동</td>\n",
       "      <td>8,000원</td>\n",
       "    </tr>\n",
       "    <tr>\n",
       "      <th>4</th>\n",
       "      <td>제가 안먹어서 급처분해요</td>\n",
       "      <td>울산 남구 삼산동</td>\n",
       "      <td>10,000원</td>\n",
       "    </tr>\n",
       "    <tr>\n",
       "      <th>...</th>\n",
       "      <td>...</td>\n",
       "      <td>...</td>\n",
       "      <td>...</td>\n",
       "    </tr>\n",
       "    <tr>\n",
       "      <th>87</th>\n",
       "      <td>나이키 맨투맨</td>\n",
       "      <td>울산 남구 삼산동</td>\n",
       "      <td>8,000원</td>\n",
       "    </tr>\n",
       "    <tr>\n",
       "      <th>88</th>\n",
       "      <td>나이키덩크</td>\n",
       "      <td>울산 울주군 범서읍</td>\n",
       "      <td>50,000원</td>\n",
       "    </tr>\n",
       "    <tr>\n",
       "      <th>89</th>\n",
       "      <td>오늘까지만 아이폰15pro 256g 카메라 무음 화이트티타늄 팔아요</td>\n",
       "      <td>울산 남구 달동</td>\n",
       "      <td>155만원</td>\n",
       "    </tr>\n",
       "    <tr>\n",
       "      <th>90</th>\n",
       "      <td>싱크대(수전포함), 세면대</td>\n",
       "      <td>울산 남구 무거동</td>\n",
       "      <td>30,000원</td>\n",
       "    </tr>\n",
       "    <tr>\n",
       "      <th>91</th>\n",
       "      <td>LG TV</td>\n",
       "      <td>울산 북구 신천동</td>\n",
       "      <td>50,000원</td>\n",
       "    </tr>\n",
       "  </tbody>\n",
       "</table>\n",
       "<p>92 rows × 3 columns</p>\n",
       "</div>"
      ],
      "text/plain": [
       "                                      물품명          지역        가격\n",
       "0                             샤넬가방.오래된가방.  울산 남구 신정3동  200,000원\n",
       "1                                  경운기팔아요  울산 울주군 범서읍  700,000원\n",
       "2                        엘파마 로사 mtb 판매합니다  울산 남구 신정2동  130,000원\n",
       "3                          맘스터치 후라이드 싸이순살   울산 남구 신정동    8,000원\n",
       "4                           제가 안먹어서 급처분해요   울산 남구 삼산동   10,000원\n",
       "..                                    ...         ...       ...\n",
       "87                                나이키 맨투맨   울산 남구 삼산동    8,000원\n",
       "88                                  나이키덩크  울산 울주군 범서읍   50,000원\n",
       "89  오늘까지만 아이폰15pro 256g 카메라 무음 화이트티타늄 팔아요    울산 남구 달동     155만원\n",
       "90                         싱크대(수전포함), 세면대   울산 남구 무거동   30,000원\n",
       "91                                  LG TV   울산 북구 신천동   50,000원\n",
       "\n",
       "[92 rows x 3 columns]"
      ]
     },
     "execution_count": 27,
     "metadata": {},
     "output_type": "execute_result"
    }
   ],
   "source": [
    "dfResult = pd.DataFrame(dicResult)\n",
    "dfResult"
   ]
  },
  {
   "cell_type": "code",
   "execution_count": 28,
   "metadata": {
    "tags": []
   },
   "outputs": [
    {
     "data": {
      "text/plain": [
       "지역\n",
       "울산 남구 삼산동     13\n",
       "울산 울주군 범서읍    12\n",
       "울산 남구 달동      12\n",
       "울산 남구 무거동      7\n",
       "울산 북구 송정동      3\n",
       "울산 남구 대현동      3\n",
       "울산 남구 신정3동     2\n",
       "울산 북구 농소3동     2\n",
       "울산 남구 매암동      2\n",
       "울산 동구 방어동      2\n",
       "울산 북구 강동동      2\n",
       "울산 중구 태화동      2\n",
       "울산 울주군 온양읍     2\n",
       "울산 북구 신천동      2\n",
       "울산 남구 신정4동     2\n",
       "울산 남구 야음동      2\n",
       "울산 중구 학산동      2\n",
       "울산 남구 신정동      1\n",
       "울산 동구 전하2동     1\n",
       "울산 중구 반구2동     1\n",
       "울산 중구 중앙동      1\n",
       "울산 중구 장현동      1\n",
       "울산 중구 옥교동      1\n",
       "울산 북구 명촌동      1\n",
       "울산 동구 전하동      1\n",
       "울산 남구 신정2동     1\n",
       "울산 중구 반구1동     1\n",
       "울산 중구 남외동      1\n",
       "울산 동구 남목1동     1\n",
       "울산 북구 중산동      1\n",
       "울산 중구 반구동      1\n",
       "울산 북구 화봉동      1\n",
       "울산 중구 서동       1\n",
       "울산 남구 수암동      1\n",
       "울산 울주군 청량읍     1\n",
       "울산 남구 옥동       1\n",
       "울산 북구 호계동      1\n",
       "Name: count, dtype: int64"
      ]
     },
     "execution_count": 28,
     "metadata": {},
     "output_type": "execute_result"
    }
   ],
   "source": [
    "dfResult['지역'].value_counts()"
   ]
  },
  {
   "cell_type": "code",
   "execution_count": null,
   "metadata": {},
   "outputs": [],
   "source": []
  }
 ],
 "metadata": {
  "kernelspec": {
   "display_name": "Python 3 (ipykernel)",
   "language": "python",
   "name": "python3"
  },
  "language_info": {
   "codemirror_mode": {
    "name": "ipython",
    "version": 3
   },
   "file_extension": ".py",
   "mimetype": "text/x-python",
   "name": "python",
   "nbconvert_exporter": "python",
   "pygments_lexer": "ipython3",
   "version": "3.10.13"
  }
 },
 "nbformat": 4,
 "nbformat_minor": 4
}
